{
 "cells": [
  {
   "cell_type": "markdown",
   "metadata": {},
   "source": [
    "# ***Introduction***\n",
    "\n",
    "L’espérance de vie à la naissance est l’indicateurs le plus global de l’état de santé d’une population. Il \n",
    "intègre synthétiquement les facteurs qui contribuent à la longévité, et peut egalement impacter sur le pib d'un pays ou d'un continent. il est donc une donné qui se prête bien à l’étude géographique \n",
    "\n",
    "    - L'espérance de vie a-t-elle augmenté au fil du temps dans les différents continent du monde ?\n",
    "    - Le PIB a-t-il augmenté au fil du temps ?\n",
    "    - Existe-t-il une corrélation entre le PIB et l'espérance de vie d'une région ?\n",
    "    \n",
    "  **data source** \n",
    "   comme resource de données, nous avons pu travaillé avec les données relative à l'esperance de vie des populations des pays du monde ainsi que les données relatives au revenu par personne ajuste au niveau d'inflation.\n",
    "   - life_expectancy_years\n",
    "   \n",
    "   - income_per_person_gdppercapita_ppp_inflation_adjusted"
   ]
  },
  {
   "cell_type": "markdown",
   "metadata": {},
   "source": [
    "# ***Généralités***"
   ]
  },
  {
   "cell_type": "markdown",
   "metadata": {},
   "source": [
    "#### importation de modules & données"
   ]
  },
  {
   "cell_type": "code",
   "execution_count": 1,
   "metadata": {},
   "outputs": [],
   "source": [
    "from matplotlib import pyplot as plt\n",
    "import pandas as pd\n",
    "import numpy as np\n",
    "import seaborn as sns\n",
    "\n",
    "%matplotlib inline"
   ]
  },
  {
   "cell_type": "markdown",
   "metadata": {},
   "source": [
    "# Préparation de données"
   ]
  },
  {
   "cell_type": "code",
   "execution_count": 2,
   "metadata": {},
   "outputs": [
    {
     "data": {
      "text/html": [
       "<div>\n",
       "<style scoped>\n",
       "    .dataframe tbody tr th:only-of-type {\n",
       "        vertical-align: middle;\n",
       "    }\n",
       "\n",
       "    .dataframe tbody tr th {\n",
       "        vertical-align: top;\n",
       "    }\n",
       "\n",
       "    .dataframe thead th {\n",
       "        text-align: right;\n",
       "    }\n",
       "</style>\n",
       "<table border=\"1\" class=\"dataframe\">\n",
       "  <thead>\n",
       "    <tr style=\"text-align: right;\">\n",
       "      <th></th>\n",
       "      <th>country</th>\n",
       "      <th>1800</th>\n",
       "      <th>1801</th>\n",
       "      <th>1802</th>\n",
       "      <th>1803</th>\n",
       "      <th>1804</th>\n",
       "      <th>1805</th>\n",
       "      <th>1806</th>\n",
       "      <th>1807</th>\n",
       "      <th>1808</th>\n",
       "      <th>...</th>\n",
       "      <th>2091</th>\n",
       "      <th>2092</th>\n",
       "      <th>2093</th>\n",
       "      <th>2094</th>\n",
       "      <th>2095</th>\n",
       "      <th>2096</th>\n",
       "      <th>2097</th>\n",
       "      <th>2098</th>\n",
       "      <th>2099</th>\n",
       "      <th>2100</th>\n",
       "    </tr>\n",
       "  </thead>\n",
       "  <tbody>\n",
       "    <tr>\n",
       "      <th>0</th>\n",
       "      <td>Afghanistan</td>\n",
       "      <td>28.2</td>\n",
       "      <td>28.2</td>\n",
       "      <td>28.2</td>\n",
       "      <td>28.2</td>\n",
       "      <td>28.2</td>\n",
       "      <td>28.2</td>\n",
       "      <td>28.1</td>\n",
       "      <td>28.1</td>\n",
       "      <td>28.1</td>\n",
       "      <td>...</td>\n",
       "      <td>75.5</td>\n",
       "      <td>75.7</td>\n",
       "      <td>75.8</td>\n",
       "      <td>76.0</td>\n",
       "      <td>76.1</td>\n",
       "      <td>76.2</td>\n",
       "      <td>76.4</td>\n",
       "      <td>76.5</td>\n",
       "      <td>76.6</td>\n",
       "      <td>76.8</td>\n",
       "    </tr>\n",
       "    <tr>\n",
       "      <th>1</th>\n",
       "      <td>Angola</td>\n",
       "      <td>27.0</td>\n",
       "      <td>27.0</td>\n",
       "      <td>27.0</td>\n",
       "      <td>27.0</td>\n",
       "      <td>27.0</td>\n",
       "      <td>27.0</td>\n",
       "      <td>27.0</td>\n",
       "      <td>27.0</td>\n",
       "      <td>27.0</td>\n",
       "      <td>...</td>\n",
       "      <td>78.8</td>\n",
       "      <td>79.0</td>\n",
       "      <td>79.1</td>\n",
       "      <td>79.2</td>\n",
       "      <td>79.3</td>\n",
       "      <td>79.5</td>\n",
       "      <td>79.6</td>\n",
       "      <td>79.7</td>\n",
       "      <td>79.9</td>\n",
       "      <td>80.0</td>\n",
       "    </tr>\n",
       "    <tr>\n",
       "      <th>2</th>\n",
       "      <td>Albania</td>\n",
       "      <td>35.4</td>\n",
       "      <td>35.4</td>\n",
       "      <td>35.4</td>\n",
       "      <td>35.4</td>\n",
       "      <td>35.4</td>\n",
       "      <td>35.4</td>\n",
       "      <td>35.4</td>\n",
       "      <td>35.4</td>\n",
       "      <td>35.4</td>\n",
       "      <td>...</td>\n",
       "      <td>87.4</td>\n",
       "      <td>87.5</td>\n",
       "      <td>87.6</td>\n",
       "      <td>87.7</td>\n",
       "      <td>87.8</td>\n",
       "      <td>87.9</td>\n",
       "      <td>88.0</td>\n",
       "      <td>88.2</td>\n",
       "      <td>88.3</td>\n",
       "      <td>88.4</td>\n",
       "    </tr>\n",
       "    <tr>\n",
       "      <th>3</th>\n",
       "      <td>Andorra</td>\n",
       "      <td>NaN</td>\n",
       "      <td>NaN</td>\n",
       "      <td>NaN</td>\n",
       "      <td>NaN</td>\n",
       "      <td>NaN</td>\n",
       "      <td>NaN</td>\n",
       "      <td>NaN</td>\n",
       "      <td>NaN</td>\n",
       "      <td>NaN</td>\n",
       "      <td>...</td>\n",
       "      <td>NaN</td>\n",
       "      <td>NaN</td>\n",
       "      <td>NaN</td>\n",
       "      <td>NaN</td>\n",
       "      <td>NaN</td>\n",
       "      <td>NaN</td>\n",
       "      <td>NaN</td>\n",
       "      <td>NaN</td>\n",
       "      <td>NaN</td>\n",
       "      <td>NaN</td>\n",
       "    </tr>\n",
       "    <tr>\n",
       "      <th>4</th>\n",
       "      <td>United Arab Emirates</td>\n",
       "      <td>30.7</td>\n",
       "      <td>30.7</td>\n",
       "      <td>30.7</td>\n",
       "      <td>30.7</td>\n",
       "      <td>30.7</td>\n",
       "      <td>30.7</td>\n",
       "      <td>30.7</td>\n",
       "      <td>30.7</td>\n",
       "      <td>30.7</td>\n",
       "      <td>...</td>\n",
       "      <td>82.4</td>\n",
       "      <td>82.5</td>\n",
       "      <td>82.6</td>\n",
       "      <td>82.7</td>\n",
       "      <td>82.8</td>\n",
       "      <td>82.9</td>\n",
       "      <td>83.0</td>\n",
       "      <td>83.1</td>\n",
       "      <td>83.2</td>\n",
       "      <td>83.3</td>\n",
       "    </tr>\n",
       "  </tbody>\n",
       "</table>\n",
       "<p>5 rows × 302 columns</p>\n",
       "</div>"
      ],
      "text/plain": [
       "                country  1800  1801  1802  1803  1804  1805  1806  1807  1808  \\\n",
       "0           Afghanistan  28.2  28.2  28.2  28.2  28.2  28.2  28.1  28.1  28.1   \n",
       "1                Angola  27.0  27.0  27.0  27.0  27.0  27.0  27.0  27.0  27.0   \n",
       "2               Albania  35.4  35.4  35.4  35.4  35.4  35.4  35.4  35.4  35.4   \n",
       "3               Andorra   NaN   NaN   NaN   NaN   NaN   NaN   NaN   NaN   NaN   \n",
       "4  United Arab Emirates  30.7  30.7  30.7  30.7  30.7  30.7  30.7  30.7  30.7   \n",
       "\n",
       "   ...  2091  2092  2093  2094  2095  2096  2097  2098  2099  2100  \n",
       "0  ...  75.5  75.7  75.8  76.0  76.1  76.2  76.4  76.5  76.6  76.8  \n",
       "1  ...  78.8  79.0  79.1  79.2  79.3  79.5  79.6  79.7  79.9  80.0  \n",
       "2  ...  87.4  87.5  87.6  87.7  87.8  87.9  88.0  88.2  88.3  88.4  \n",
       "3  ...   NaN   NaN   NaN   NaN   NaN   NaN   NaN   NaN   NaN   NaN  \n",
       "4  ...  82.4  82.5  82.6  82.7  82.8  82.9  83.0  83.1  83.2  83.3  \n",
       "\n",
       "[5 rows x 302 columns]"
      ]
     },
     "execution_count": 2,
     "metadata": {},
     "output_type": "execute_result"
    }
   ],
   "source": [
    "#importation des données relatives à l'expérence de vie\n",
    "life_df = pd.read_csv(\"C://Users//HEBRON//Desktop//UDACITY//Projet 1//life_expectancy_years.csv\")\n",
    "\n",
    "life_df.head()"
   ]
  },
  {
   "cell_type": "code",
   "execution_count": 3,
   "metadata": {},
   "outputs": [
    {
     "name": "stdout",
     "output_type": "stream",
     "text": [
      "(195, 302)\n"
     ]
    }
   ],
   "source": [
    "print(life_df.shape)"
   ]
  },
  {
   "cell_type": "code",
   "execution_count": 4,
   "metadata": {},
   "outputs": [
    {
     "data": {
      "text/plain": [
       "country     object\n",
       "1800       float64\n",
       "1801       float64\n",
       "1802       float64\n",
       "1803       float64\n",
       "            ...   \n",
       "2096       float64\n",
       "2097       float64\n",
       "2098       float64\n",
       "2099       float64\n",
       "2100       float64\n",
       "Length: 302, dtype: object"
      ]
     },
     "execution_count": 4,
     "metadata": {},
     "output_type": "execute_result"
    }
   ],
   "source": [
    "life_df.dtypes"
   ]
  },
  {
   "cell_type": "code",
   "execution_count": 5,
   "metadata": {},
   "outputs": [
    {
     "name": "stdout",
     "output_type": "stream",
     "text": [
      "<class 'pandas.core.frame.DataFrame'>\n",
      "RangeIndex: 195 entries, 0 to 194\n",
      "Columns: 302 entries, country to 2100\n",
      "dtypes: float64(301), object(1)\n",
      "memory usage: 460.2+ KB\n"
     ]
    }
   ],
   "source": [
    "life_df.info()"
   ]
  },
  {
   "cell_type": "code",
   "execution_count": 6,
   "metadata": {},
   "outputs": [
    {
     "data": {
      "text/plain": [
       "Index(['country', '1800', '1801', '1802', '1803', '1804', '1805', '1806',\n",
       "       '1807', '1808',\n",
       "       ...\n",
       "       '2091', '2092', '2093', '2094', '2095', '2096', '2097', '2098', '2099',\n",
       "       '2100'],\n",
       "      dtype='object', length=302)"
      ]
     },
     "execution_count": 6,
     "metadata": {},
     "output_type": "execute_result"
    }
   ],
   "source": [
    "life_df.columns"
   ]
  },
  {
   "cell_type": "code",
   "execution_count": 7,
   "metadata": {},
   "outputs": [
    {
     "data": {
      "text/plain": [
       "country    0\n",
       "1800       9\n",
       "1801       9\n",
       "1802       9\n",
       "1803       9\n",
       "          ..\n",
       "2096       9\n",
       "2097       9\n",
       "2098       9\n",
       "2099       9\n",
       "2100       9\n",
       "Length: 302, dtype: int64"
      ]
     },
     "execution_count": 7,
     "metadata": {},
     "output_type": "execute_result"
    }
   ],
   "source": [
    "# verifions s'il y a des données manquantes\n",
    "\n",
    "life_df.isnull().sum()"
   ]
  },
  {
   "cell_type": "code",
   "execution_count": 8,
   "metadata": {},
   "outputs": [
    {
     "data": {
      "text/html": [
       "<div>\n",
       "<style scoped>\n",
       "    .dataframe tbody tr th:only-of-type {\n",
       "        vertical-align: middle;\n",
       "    }\n",
       "\n",
       "    .dataframe tbody tr th {\n",
       "        vertical-align: top;\n",
       "    }\n",
       "\n",
       "    .dataframe thead th {\n",
       "        text-align: right;\n",
       "    }\n",
       "</style>\n",
       "<table border=\"1\" class=\"dataframe\">\n",
       "  <thead>\n",
       "    <tr style=\"text-align: right;\">\n",
       "      <th></th>\n",
       "      <th>country</th>\n",
       "      <th>1800</th>\n",
       "      <th>1801</th>\n",
       "      <th>1802</th>\n",
       "      <th>1803</th>\n",
       "      <th>1804</th>\n",
       "      <th>1805</th>\n",
       "      <th>1806</th>\n",
       "      <th>1807</th>\n",
       "      <th>1808</th>\n",
       "      <th>...</th>\n",
       "      <th>2041</th>\n",
       "      <th>2042</th>\n",
       "      <th>2043</th>\n",
       "      <th>2044</th>\n",
       "      <th>2045</th>\n",
       "      <th>2046</th>\n",
       "      <th>2047</th>\n",
       "      <th>2048</th>\n",
       "      <th>2049</th>\n",
       "      <th>2050</th>\n",
       "    </tr>\n",
       "  </thead>\n",
       "  <tbody>\n",
       "    <tr>\n",
       "      <th>0</th>\n",
       "      <td>Afghanistan</td>\n",
       "      <td>683</td>\n",
       "      <td>683</td>\n",
       "      <td>683</td>\n",
       "      <td>683</td>\n",
       "      <td>683</td>\n",
       "      <td>683</td>\n",
       "      <td>683</td>\n",
       "      <td>683</td>\n",
       "      <td>683</td>\n",
       "      <td>...</td>\n",
       "      <td>2690</td>\n",
       "      <td>2750</td>\n",
       "      <td>2810</td>\n",
       "      <td>2870</td>\n",
       "      <td>2930</td>\n",
       "      <td>2990</td>\n",
       "      <td>3060</td>\n",
       "      <td>3120</td>\n",
       "      <td>3190</td>\n",
       "      <td>3260</td>\n",
       "    </tr>\n",
       "    <tr>\n",
       "      <th>1</th>\n",
       "      <td>Angola</td>\n",
       "      <td>700</td>\n",
       "      <td>702</td>\n",
       "      <td>705</td>\n",
       "      <td>709</td>\n",
       "      <td>711</td>\n",
       "      <td>714</td>\n",
       "      <td>718</td>\n",
       "      <td>721</td>\n",
       "      <td>725</td>\n",
       "      <td>...</td>\n",
       "      <td>8000</td>\n",
       "      <td>8170</td>\n",
       "      <td>8350</td>\n",
       "      <td>8530</td>\n",
       "      <td>8710</td>\n",
       "      <td>8900</td>\n",
       "      <td>9090</td>\n",
       "      <td>9280</td>\n",
       "      <td>9480</td>\n",
       "      <td>9690</td>\n",
       "    </tr>\n",
       "    <tr>\n",
       "      <th>2</th>\n",
       "      <td>Albania</td>\n",
       "      <td>755</td>\n",
       "      <td>755</td>\n",
       "      <td>755</td>\n",
       "      <td>755</td>\n",
       "      <td>755</td>\n",
       "      <td>756</td>\n",
       "      <td>756</td>\n",
       "      <td>756</td>\n",
       "      <td>756</td>\n",
       "      <td>...</td>\n",
       "      <td>25.1k</td>\n",
       "      <td>25.6k</td>\n",
       "      <td>26.2k</td>\n",
       "      <td>26.7k</td>\n",
       "      <td>27.3k</td>\n",
       "      <td>27.9k</td>\n",
       "      <td>28.5k</td>\n",
       "      <td>29.1k</td>\n",
       "      <td>29.7k</td>\n",
       "      <td>30.4k</td>\n",
       "    </tr>\n",
       "    <tr>\n",
       "      <th>3</th>\n",
       "      <td>Andorra</td>\n",
       "      <td>1360</td>\n",
       "      <td>1360</td>\n",
       "      <td>1360</td>\n",
       "      <td>1360</td>\n",
       "      <td>1370</td>\n",
       "      <td>1370</td>\n",
       "      <td>1370</td>\n",
       "      <td>1370</td>\n",
       "      <td>1380</td>\n",
       "      <td>...</td>\n",
       "      <td>68.9k</td>\n",
       "      <td>70.4k</td>\n",
       "      <td>71.9k</td>\n",
       "      <td>73.4k</td>\n",
       "      <td>75k</td>\n",
       "      <td>76.6k</td>\n",
       "      <td>78.3k</td>\n",
       "      <td>80k</td>\n",
       "      <td>81.7k</td>\n",
       "      <td>83.4k</td>\n",
       "    </tr>\n",
       "    <tr>\n",
       "      <th>4</th>\n",
       "      <td>United Arab Emirates</td>\n",
       "      <td>1130</td>\n",
       "      <td>1130</td>\n",
       "      <td>1140</td>\n",
       "      <td>1140</td>\n",
       "      <td>1150</td>\n",
       "      <td>1150</td>\n",
       "      <td>1160</td>\n",
       "      <td>1160</td>\n",
       "      <td>1160</td>\n",
       "      <td>...</td>\n",
       "      <td>101k</td>\n",
       "      <td>103k</td>\n",
       "      <td>105k</td>\n",
       "      <td>107k</td>\n",
       "      <td>110k</td>\n",
       "      <td>112k</td>\n",
       "      <td>114k</td>\n",
       "      <td>117k</td>\n",
       "      <td>119k</td>\n",
       "      <td>122k</td>\n",
       "    </tr>\n",
       "  </tbody>\n",
       "</table>\n",
       "<p>5 rows × 252 columns</p>\n",
       "</div>"
      ],
      "text/plain": [
       "                country  1800  1801  1802  1803  1804  1805  1806  1807  1808  \\\n",
       "0           Afghanistan   683   683   683   683   683   683   683   683   683   \n",
       "1                Angola   700   702   705   709   711   714   718   721   725   \n",
       "2               Albania   755   755   755   755   755   756   756   756   756   \n",
       "3               Andorra  1360  1360  1360  1360  1370  1370  1370  1370  1380   \n",
       "4  United Arab Emirates  1130  1130  1140  1140  1150  1150  1160  1160  1160   \n",
       "\n",
       "   ...   2041   2042   2043   2044   2045   2046   2047   2048   2049   2050  \n",
       "0  ...   2690   2750   2810   2870   2930   2990   3060   3120   3190   3260  \n",
       "1  ...   8000   8170   8350   8530   8710   8900   9090   9280   9480   9690  \n",
       "2  ...  25.1k  25.6k  26.2k  26.7k  27.3k  27.9k  28.5k  29.1k  29.7k  30.4k  \n",
       "3  ...  68.9k  70.4k  71.9k  73.4k    75k  76.6k  78.3k    80k  81.7k  83.4k  \n",
       "4  ...   101k   103k   105k   107k   110k   112k   114k   117k   119k   122k  \n",
       "\n",
       "[5 rows x 252 columns]"
      ]
     },
     "execution_count": 8,
     "metadata": {},
     "output_type": "execute_result"
    }
   ],
   "source": [
    "#importation des données relative au income_per_person_gdppercapita_ppp_inflation_adjusted\n",
    "\n",
    "Incom_df = pd.read_csv(\"C://Users//HEBRON//Desktop//UDACITY//Projet 1//income_per_person_gdppercapita_ppp_inflation_adjusted.csv\")\n",
    "\n",
    "Incom_df.head()"
   ]
  },
  {
   "cell_type": "code",
   "execution_count": 9,
   "metadata": {},
   "outputs": [
    {
     "name": "stdout",
     "output_type": "stream",
     "text": [
      "(195, 252)\n"
     ]
    }
   ],
   "source": [
    "print(Incom_df.shape)"
   ]
  },
  {
   "cell_type": "code",
   "execution_count": 10,
   "metadata": {},
   "outputs": [
    {
     "data": {
      "text/plain": [
       "country    object\n",
       "1800        int64\n",
       "1801        int64\n",
       "1802        int64\n",
       "1803        int64\n",
       "            ...  \n",
       "2046       object\n",
       "2047       object\n",
       "2048       object\n",
       "2049       object\n",
       "2050       object\n",
       "Length: 252, dtype: object"
      ]
     },
     "execution_count": 10,
     "metadata": {},
     "output_type": "execute_result"
    }
   ],
   "source": [
    "Incom_df.dtypes"
   ]
  },
  {
   "cell_type": "code",
   "execution_count": 11,
   "metadata": {},
   "outputs": [
    {
     "name": "stdout",
     "output_type": "stream",
     "text": [
      "<class 'pandas.core.frame.DataFrame'>\n",
      "RangeIndex: 195 entries, 0 to 194\n",
      "Columns: 252 entries, country to 2050\n",
      "dtypes: int64(101), object(151)\n",
      "memory usage: 384.0+ KB\n"
     ]
    }
   ],
   "source": [
    "Incom_df.info()"
   ]
  },
  {
   "cell_type": "code",
   "execution_count": 12,
   "metadata": {},
   "outputs": [
    {
     "data": {
      "text/plain": [
       "country    0\n",
       "1800       0\n",
       "1801       0\n",
       "1802       0\n",
       "1803       0\n",
       "          ..\n",
       "2046       0\n",
       "2047       0\n",
       "2048       0\n",
       "2049       0\n",
       "2050       0\n",
       "Length: 252, dtype: int64"
      ]
     },
     "execution_count": 12,
     "metadata": {},
     "output_type": "execute_result"
    }
   ],
   "source": [
    "Incom_df.isnull().sum()"
   ]
  },
  {
   "cell_type": "markdown",
   "metadata": {},
   "source": [
    "# ***Nettoyons nos données***"
   ]
  },
  {
   "cell_type": "code",
   "execution_count": 13,
   "metadata": {},
   "outputs": [],
   "source": [
    "def check_and_drop(df):\n",
    "    if pd.isna(df).sum().sum():\n",
    "        return df.dropna(axis=0)\n",
    "    return df\n",
    "\n",
    "life_df = check_and_drop(life_df)\n",
    "Incom_df = check_and_drop(Incom_df)"
   ]
  },
  {
   "cell_type": "code",
   "execution_count": 14,
   "metadata": {},
   "outputs": [
    {
     "data": {
      "text/plain": [
       "0"
      ]
     },
     "execution_count": 14,
     "metadata": {},
     "output_type": "execute_result"
    }
   ],
   "source": [
    "life_df.isnull().sum().sum()"
   ]
  },
  {
   "cell_type": "code",
   "execution_count": 15,
   "metadata": {},
   "outputs": [
    {
     "data": {
      "text/plain": [
       "country    0\n",
       "1800       0\n",
       "1801       0\n",
       "1802       0\n",
       "1803       0\n",
       "          ..\n",
       "2046       0\n",
       "2047       0\n",
       "2048       0\n",
       "2049       0\n",
       "2050       0\n",
       "Length: 252, dtype: int64"
      ]
     },
     "execution_count": 15,
     "metadata": {},
     "output_type": "execute_result"
    }
   ],
   "source": [
    "Incom_df.isnull().sum()"
   ]
  },
  {
   "cell_type": "markdown",
   "metadata": {},
   "source": [
    "les années etant différentes pour nos données, nous travaillerons sur la période de 1800 à 2000 (inclu)"
   ]
  },
  {
   "cell_type": "code",
   "execution_count": 16,
   "metadata": {},
   "outputs": [
    {
     "data": {
      "text/plain": [
       "['country',\n",
       " '1800',\n",
       " '1801',\n",
       " '1802',\n",
       " '1803',\n",
       " '1804',\n",
       " '1805',\n",
       " '1806',\n",
       " '1807',\n",
       " '1808',\n",
       " '1809',\n",
       " '1810',\n",
       " '1811',\n",
       " '1812',\n",
       " '1813',\n",
       " '1814',\n",
       " '1815',\n",
       " '1816',\n",
       " '1817',\n",
       " '1818',\n",
       " '1819',\n",
       " '1820',\n",
       " '1821',\n",
       " '1822',\n",
       " '1823',\n",
       " '1824',\n",
       " '1825',\n",
       " '1826',\n",
       " '1827',\n",
       " '1828',\n",
       " '1829',\n",
       " '1830',\n",
       " '1831',\n",
       " '1832',\n",
       " '1833',\n",
       " '1834',\n",
       " '1835',\n",
       " '1836',\n",
       " '1837',\n",
       " '1838',\n",
       " '1839',\n",
       " '1840',\n",
       " '1841',\n",
       " '1842',\n",
       " '1843',\n",
       " '1844',\n",
       " '1845',\n",
       " '1846',\n",
       " '1847',\n",
       " '1848',\n",
       " '1849',\n",
       " '1850',\n",
       " '1851',\n",
       " '1852',\n",
       " '1853',\n",
       " '1854',\n",
       " '1855',\n",
       " '1856',\n",
       " '1857',\n",
       " '1858',\n",
       " '1859',\n",
       " '1860',\n",
       " '1861',\n",
       " '1862',\n",
       " '1863',\n",
       " '1864',\n",
       " '1865',\n",
       " '1866',\n",
       " '1867',\n",
       " '1868',\n",
       " '1869',\n",
       " '1870',\n",
       " '1871',\n",
       " '1872',\n",
       " '1873',\n",
       " '1874',\n",
       " '1875',\n",
       " '1876',\n",
       " '1877',\n",
       " '1878',\n",
       " '1879',\n",
       " '1880',\n",
       " '1881',\n",
       " '1882',\n",
       " '1883',\n",
       " '1884',\n",
       " '1885',\n",
       " '1886',\n",
       " '1887',\n",
       " '1888',\n",
       " '1889',\n",
       " '1890',\n",
       " '1891',\n",
       " '1892',\n",
       " '1893',\n",
       " '1894',\n",
       " '1895',\n",
       " '1896',\n",
       " '1897',\n",
       " '1898',\n",
       " '1899',\n",
       " '1900',\n",
       " '1901',\n",
       " '1902',\n",
       " '1903',\n",
       " '1904',\n",
       " '1905',\n",
       " '1906',\n",
       " '1907',\n",
       " '1908',\n",
       " '1909',\n",
       " '1910',\n",
       " '1911',\n",
       " '1912',\n",
       " '1913',\n",
       " '1914',\n",
       " '1915',\n",
       " '1916',\n",
       " '1917',\n",
       " '1918',\n",
       " '1919',\n",
       " '1920',\n",
       " '1921',\n",
       " '1922',\n",
       " '1923',\n",
       " '1924',\n",
       " '1925',\n",
       " '1926',\n",
       " '1927',\n",
       " '1928',\n",
       " '1929',\n",
       " '1930',\n",
       " '1931',\n",
       " '1932',\n",
       " '1933',\n",
       " '1934',\n",
       " '1935',\n",
       " '1936',\n",
       " '1937',\n",
       " '1938',\n",
       " '1939',\n",
       " '1940',\n",
       " '1941',\n",
       " '1942',\n",
       " '1943',\n",
       " '1944',\n",
       " '1945',\n",
       " '1946',\n",
       " '1947',\n",
       " '1948',\n",
       " '1949',\n",
       " '1950',\n",
       " '1951',\n",
       " '1952',\n",
       " '1953',\n",
       " '1954',\n",
       " '1955',\n",
       " '1956',\n",
       " '1957',\n",
       " '1958',\n",
       " '1959',\n",
       " '1960',\n",
       " '1961',\n",
       " '1962',\n",
       " '1963',\n",
       " '1964',\n",
       " '1965',\n",
       " '1966',\n",
       " '1967',\n",
       " '1968',\n",
       " '1969',\n",
       " '1970',\n",
       " '1971',\n",
       " '1972',\n",
       " '1973',\n",
       " '1974',\n",
       " '1975',\n",
       " '1976',\n",
       " '1977',\n",
       " '1978',\n",
       " '1979',\n",
       " '1980',\n",
       " '1981',\n",
       " '1982',\n",
       " '1983',\n",
       " '1984',\n",
       " '1985',\n",
       " '1986',\n",
       " '1987',\n",
       " '1988',\n",
       " '1989',\n",
       " '1990',\n",
       " '1991',\n",
       " '1992',\n",
       " '1993',\n",
       " '1994',\n",
       " '1995',\n",
       " '1996',\n",
       " '1997',\n",
       " '1998',\n",
       " '1999',\n",
       " '2000']"
      ]
     },
     "execution_count": 16,
     "metadata": {},
     "output_type": "execute_result"
    }
   ],
   "source": [
    "liste = [\"country\"]+[str(i) for i in range(1800, 2001)]\n",
    "\n",
    "liste"
   ]
  },
  {
   "cell_type": "code",
   "execution_count": 17,
   "metadata": {},
   "outputs": [],
   "source": [
    "Incom_df_1800_2000 = Incom_df[liste]"
   ]
  },
  {
   "cell_type": "code",
   "execution_count": 18,
   "metadata": {
    "scrolled": false
   },
   "outputs": [
    {
     "data": {
      "text/html": [
       "<div>\n",
       "<style scoped>\n",
       "    .dataframe tbody tr th:only-of-type {\n",
       "        vertical-align: middle;\n",
       "    }\n",
       "\n",
       "    .dataframe tbody tr th {\n",
       "        vertical-align: top;\n",
       "    }\n",
       "\n",
       "    .dataframe thead th {\n",
       "        text-align: right;\n",
       "    }\n",
       "</style>\n",
       "<table border=\"1\" class=\"dataframe\">\n",
       "  <thead>\n",
       "    <tr style=\"text-align: right;\">\n",
       "      <th></th>\n",
       "      <th>country</th>\n",
       "      <th>1800</th>\n",
       "      <th>1801</th>\n",
       "      <th>1802</th>\n",
       "      <th>1803</th>\n",
       "      <th>1804</th>\n",
       "      <th>1805</th>\n",
       "      <th>1806</th>\n",
       "      <th>1807</th>\n",
       "      <th>1808</th>\n",
       "      <th>...</th>\n",
       "      <th>1991</th>\n",
       "      <th>1992</th>\n",
       "      <th>1993</th>\n",
       "      <th>1994</th>\n",
       "      <th>1995</th>\n",
       "      <th>1996</th>\n",
       "      <th>1997</th>\n",
       "      <th>1998</th>\n",
       "      <th>1999</th>\n",
       "      <th>2000</th>\n",
       "    </tr>\n",
       "  </thead>\n",
       "  <tbody>\n",
       "    <tr>\n",
       "      <th>0</th>\n",
       "      <td>Afghanistan</td>\n",
       "      <td>683</td>\n",
       "      <td>683</td>\n",
       "      <td>683</td>\n",
       "      <td>683</td>\n",
       "      <td>683</td>\n",
       "      <td>683</td>\n",
       "      <td>683</td>\n",
       "      <td>683</td>\n",
       "      <td>683</td>\n",
       "      <td>...</td>\n",
       "      <td>1020</td>\n",
       "      <td>981</td>\n",
       "      <td>672</td>\n",
       "      <td>498</td>\n",
       "      <td>736</td>\n",
       "      <td>698</td>\n",
       "      <td>663</td>\n",
       "      <td>634</td>\n",
       "      <td>603</td>\n",
       "      <td>584</td>\n",
       "    </tr>\n",
       "    <tr>\n",
       "      <th>1</th>\n",
       "      <td>Angola</td>\n",
       "      <td>700</td>\n",
       "      <td>702</td>\n",
       "      <td>705</td>\n",
       "      <td>709</td>\n",
       "      <td>711</td>\n",
       "      <td>714</td>\n",
       "      <td>718</td>\n",
       "      <td>721</td>\n",
       "      <td>725</td>\n",
       "      <td>...</td>\n",
       "      <td>1670</td>\n",
       "      <td>1620</td>\n",
       "      <td>1260</td>\n",
       "      <td>1300</td>\n",
       "      <td>1530</td>\n",
       "      <td>1780</td>\n",
       "      <td>1960</td>\n",
       "      <td>2110</td>\n",
       "      <td>2210</td>\n",
       "      <td>2340</td>\n",
       "    </tr>\n",
       "    <tr>\n",
       "      <th>2</th>\n",
       "      <td>Albania</td>\n",
       "      <td>755</td>\n",
       "      <td>755</td>\n",
       "      <td>755</td>\n",
       "      <td>755</td>\n",
       "      <td>755</td>\n",
       "      <td>756</td>\n",
       "      <td>756</td>\n",
       "      <td>756</td>\n",
       "      <td>756</td>\n",
       "      <td>...</td>\n",
       "      <td>3500</td>\n",
       "      <td>3270</td>\n",
       "      <td>3600</td>\n",
       "      <td>3920</td>\n",
       "      <td>4470</td>\n",
       "      <td>4910</td>\n",
       "      <td>4400</td>\n",
       "      <td>4820</td>\n",
       "      <td>5480</td>\n",
       "      <td>5890</td>\n",
       "    </tr>\n",
       "    <tr>\n",
       "      <th>3</th>\n",
       "      <td>Andorra</td>\n",
       "      <td>1360</td>\n",
       "      <td>1360</td>\n",
       "      <td>1360</td>\n",
       "      <td>1360</td>\n",
       "      <td>1370</td>\n",
       "      <td>1370</td>\n",
       "      <td>1370</td>\n",
       "      <td>1370</td>\n",
       "      <td>1380</td>\n",
       "      <td>...</td>\n",
       "      <td>31.7k</td>\n",
       "      <td>30.8k</td>\n",
       "      <td>29.4k</td>\n",
       "      <td>29.3k</td>\n",
       "      <td>29.6k</td>\n",
       "      <td>30.8k</td>\n",
       "      <td>33.7k</td>\n",
       "      <td>34.9k</td>\n",
       "      <td>36.2k</td>\n",
       "      <td>35.8k</td>\n",
       "    </tr>\n",
       "    <tr>\n",
       "      <th>4</th>\n",
       "      <td>United Arab Emirates</td>\n",
       "      <td>1130</td>\n",
       "      <td>1130</td>\n",
       "      <td>1140</td>\n",
       "      <td>1140</td>\n",
       "      <td>1150</td>\n",
       "      <td>1150</td>\n",
       "      <td>1160</td>\n",
       "      <td>1160</td>\n",
       "      <td>1160</td>\n",
       "      <td>...</td>\n",
       "      <td>50.5k</td>\n",
       "      <td>50.5k</td>\n",
       "      <td>50.1k</td>\n",
       "      <td>53.1k</td>\n",
       "      <td>56.2k</td>\n",
       "      <td>58.6k</td>\n",
       "      <td>62.8k</td>\n",
       "      <td>62.8k</td>\n",
       "      <td>64.6k</td>\n",
       "      <td>71.6k</td>\n",
       "    </tr>\n",
       "    <tr>\n",
       "      <th>...</th>\n",
       "      <td>...</td>\n",
       "      <td>...</td>\n",
       "      <td>...</td>\n",
       "      <td>...</td>\n",
       "      <td>...</td>\n",
       "      <td>...</td>\n",
       "      <td>...</td>\n",
       "      <td>...</td>\n",
       "      <td>...</td>\n",
       "      <td>...</td>\n",
       "      <td>...</td>\n",
       "      <td>...</td>\n",
       "      <td>...</td>\n",
       "      <td>...</td>\n",
       "      <td>...</td>\n",
       "      <td>...</td>\n",
       "      <td>...</td>\n",
       "      <td>...</td>\n",
       "      <td>...</td>\n",
       "      <td>...</td>\n",
       "      <td>...</td>\n",
       "    </tr>\n",
       "    <tr>\n",
       "      <th>190</th>\n",
       "      <td>Samoa</td>\n",
       "      <td>1590</td>\n",
       "      <td>1590</td>\n",
       "      <td>1590</td>\n",
       "      <td>1590</td>\n",
       "      <td>1590</td>\n",
       "      <td>1590</td>\n",
       "      <td>1590</td>\n",
       "      <td>1590</td>\n",
       "      <td>1590</td>\n",
       "      <td>...</td>\n",
       "      <td>3940</td>\n",
       "      <td>3890</td>\n",
       "      <td>4010</td>\n",
       "      <td>3870</td>\n",
       "      <td>4100</td>\n",
       "      <td>4370</td>\n",
       "      <td>4370</td>\n",
       "      <td>4450</td>\n",
       "      <td>4520</td>\n",
       "      <td>4810</td>\n",
       "    </tr>\n",
       "    <tr>\n",
       "      <th>191</th>\n",
       "      <td>Yemen</td>\n",
       "      <td>993</td>\n",
       "      <td>995</td>\n",
       "      <td>998</td>\n",
       "      <td>1000</td>\n",
       "      <td>1000</td>\n",
       "      <td>1010</td>\n",
       "      <td>1010</td>\n",
       "      <td>1010</td>\n",
       "      <td>1020</td>\n",
       "      <td>...</td>\n",
       "      <td>4260</td>\n",
       "      <td>4370</td>\n",
       "      <td>4320</td>\n",
       "      <td>4390</td>\n",
       "      <td>4440</td>\n",
       "      <td>4480</td>\n",
       "      <td>4570</td>\n",
       "      <td>4700</td>\n",
       "      <td>4740</td>\n",
       "      <td>4900</td>\n",
       "    </tr>\n",
       "    <tr>\n",
       "      <th>192</th>\n",
       "      <td>South Africa</td>\n",
       "      <td>1780</td>\n",
       "      <td>1760</td>\n",
       "      <td>1740</td>\n",
       "      <td>1720</td>\n",
       "      <td>1700</td>\n",
       "      <td>1610</td>\n",
       "      <td>1610</td>\n",
       "      <td>1750</td>\n",
       "      <td>1530</td>\n",
       "      <td>...</td>\n",
       "      <td>10.9k</td>\n",
       "      <td>10.4k</td>\n",
       "      <td>10.3k</td>\n",
       "      <td>10.3k</td>\n",
       "      <td>10.4k</td>\n",
       "      <td>10.7k</td>\n",
       "      <td>10.8k</td>\n",
       "      <td>10.6k</td>\n",
       "      <td>10.7k</td>\n",
       "      <td>11k</td>\n",
       "    </tr>\n",
       "    <tr>\n",
       "      <th>193</th>\n",
       "      <td>Zambia</td>\n",
       "      <td>751</td>\n",
       "      <td>753</td>\n",
       "      <td>755</td>\n",
       "      <td>756</td>\n",
       "      <td>758</td>\n",
       "      <td>760</td>\n",
       "      <td>762</td>\n",
       "      <td>764</td>\n",
       "      <td>765</td>\n",
       "      <td>...</td>\n",
       "      <td>2130</td>\n",
       "      <td>2050</td>\n",
       "      <td>2130</td>\n",
       "      <td>1900</td>\n",
       "      <td>1910</td>\n",
       "      <td>1980</td>\n",
       "      <td>2000</td>\n",
       "      <td>1930</td>\n",
       "      <td>1970</td>\n",
       "      <td>1990</td>\n",
       "    </tr>\n",
       "    <tr>\n",
       "      <th>194</th>\n",
       "      <td>Zimbabwe</td>\n",
       "      <td>984</td>\n",
       "      <td>985</td>\n",
       "      <td>986</td>\n",
       "      <td>987</td>\n",
       "      <td>988</td>\n",
       "      <td>989</td>\n",
       "      <td>991</td>\n",
       "      <td>992</td>\n",
       "      <td>993</td>\n",
       "      <td>...</td>\n",
       "      <td>4300</td>\n",
       "      <td>3830</td>\n",
       "      <td>3800</td>\n",
       "      <td>4090</td>\n",
       "      <td>4040</td>\n",
       "      <td>4410</td>\n",
       "      <td>4490</td>\n",
       "      <td>4580</td>\n",
       "      <td>4510</td>\n",
       "      <td>4350</td>\n",
       "    </tr>\n",
       "  </tbody>\n",
       "</table>\n",
       "<p>195 rows × 202 columns</p>\n",
       "</div>"
      ],
      "text/plain": [
       "                  country  1800  1801  1802  1803  1804  1805  1806  1807  \\\n",
       "0             Afghanistan   683   683   683   683   683   683   683   683   \n",
       "1                  Angola   700   702   705   709   711   714   718   721   \n",
       "2                 Albania   755   755   755   755   755   756   756   756   \n",
       "3                 Andorra  1360  1360  1360  1360  1370  1370  1370  1370   \n",
       "4    United Arab Emirates  1130  1130  1140  1140  1150  1150  1160  1160   \n",
       "..                    ...   ...   ...   ...   ...   ...   ...   ...   ...   \n",
       "190                 Samoa  1590  1590  1590  1590  1590  1590  1590  1590   \n",
       "191                 Yemen   993   995   998  1000  1000  1010  1010  1010   \n",
       "192          South Africa  1780  1760  1740  1720  1700  1610  1610  1750   \n",
       "193                Zambia   751   753   755   756   758   760   762   764   \n",
       "194              Zimbabwe   984   985   986   987   988   989   991   992   \n",
       "\n",
       "     1808  ...   1991   1992   1993   1994   1995   1996   1997   1998   1999  \\\n",
       "0     683  ...   1020    981    672    498    736    698    663    634    603   \n",
       "1     725  ...   1670   1620   1260   1300   1530   1780   1960   2110   2210   \n",
       "2     756  ...   3500   3270   3600   3920   4470   4910   4400   4820   5480   \n",
       "3    1380  ...  31.7k  30.8k  29.4k  29.3k  29.6k  30.8k  33.7k  34.9k  36.2k   \n",
       "4    1160  ...  50.5k  50.5k  50.1k  53.1k  56.2k  58.6k  62.8k  62.8k  64.6k   \n",
       "..    ...  ...    ...    ...    ...    ...    ...    ...    ...    ...    ...   \n",
       "190  1590  ...   3940   3890   4010   3870   4100   4370   4370   4450   4520   \n",
       "191  1020  ...   4260   4370   4320   4390   4440   4480   4570   4700   4740   \n",
       "192  1530  ...  10.9k  10.4k  10.3k  10.3k  10.4k  10.7k  10.8k  10.6k  10.7k   \n",
       "193   765  ...   2130   2050   2130   1900   1910   1980   2000   1930   1970   \n",
       "194   993  ...   4300   3830   3800   4090   4040   4410   4490   4580   4510   \n",
       "\n",
       "      2000  \n",
       "0      584  \n",
       "1     2340  \n",
       "2     5890  \n",
       "3    35.8k  \n",
       "4    71.6k  \n",
       "..     ...  \n",
       "190   4810  \n",
       "191   4900  \n",
       "192    11k  \n",
       "193   1990  \n",
       "194   4350  \n",
       "\n",
       "[195 rows x 202 columns]"
      ]
     },
     "execution_count": 18,
     "metadata": {},
     "output_type": "execute_result"
    }
   ],
   "source": [
    "Incom_df_1800_2000 "
   ]
  },
  {
   "cell_type": "code",
   "execution_count": 19,
   "metadata": {},
   "outputs": [
    {
     "data": {
      "text/plain": [
       "country    object\n",
       "1800        int64\n",
       "1801        int64\n",
       "1802        int64\n",
       "1803        int64\n",
       "            ...  \n",
       "1996       object\n",
       "1997       object\n",
       "1998       object\n",
       "1999       object\n",
       "2000       object\n",
       "Length: 202, dtype: object"
      ]
     },
     "execution_count": 19,
     "metadata": {},
     "output_type": "execute_result"
    }
   ],
   "source": [
    "Incom_df_1800_2000.dtypes"
   ]
  },
  {
   "cell_type": "code",
   "execution_count": 20,
   "metadata": {},
   "outputs": [],
   "source": [
    "life_df_1800_2000 = life_df[liste]"
   ]
  },
  {
   "cell_type": "code",
   "execution_count": 21,
   "metadata": {},
   "outputs": [
    {
     "data": {
      "text/html": [
       "<div>\n",
       "<style scoped>\n",
       "    .dataframe tbody tr th:only-of-type {\n",
       "        vertical-align: middle;\n",
       "    }\n",
       "\n",
       "    .dataframe tbody tr th {\n",
       "        vertical-align: top;\n",
       "    }\n",
       "\n",
       "    .dataframe thead th {\n",
       "        text-align: right;\n",
       "    }\n",
       "</style>\n",
       "<table border=\"1\" class=\"dataframe\">\n",
       "  <thead>\n",
       "    <tr style=\"text-align: right;\">\n",
       "      <th></th>\n",
       "      <th>country</th>\n",
       "      <th>1800</th>\n",
       "      <th>1801</th>\n",
       "      <th>1802</th>\n",
       "      <th>1803</th>\n",
       "      <th>1804</th>\n",
       "      <th>1805</th>\n",
       "      <th>1806</th>\n",
       "      <th>1807</th>\n",
       "      <th>1808</th>\n",
       "      <th>...</th>\n",
       "      <th>1991</th>\n",
       "      <th>1992</th>\n",
       "      <th>1993</th>\n",
       "      <th>1994</th>\n",
       "      <th>1995</th>\n",
       "      <th>1996</th>\n",
       "      <th>1997</th>\n",
       "      <th>1998</th>\n",
       "      <th>1999</th>\n",
       "      <th>2000</th>\n",
       "    </tr>\n",
       "  </thead>\n",
       "  <tbody>\n",
       "    <tr>\n",
       "      <th>0</th>\n",
       "      <td>Afghanistan</td>\n",
       "      <td>28.2</td>\n",
       "      <td>28.2</td>\n",
       "      <td>28.2</td>\n",
       "      <td>28.2</td>\n",
       "      <td>28.2</td>\n",
       "      <td>28.2</td>\n",
       "      <td>28.1</td>\n",
       "      <td>28.1</td>\n",
       "      <td>28.1</td>\n",
       "      <td>...</td>\n",
       "      <td>53.8</td>\n",
       "      <td>54.2</td>\n",
       "      <td>54.4</td>\n",
       "      <td>53.9</td>\n",
       "      <td>54.3</td>\n",
       "      <td>54.7</td>\n",
       "      <td>54.5</td>\n",
       "      <td>53.3</td>\n",
       "      <td>54.7</td>\n",
       "      <td>54.7</td>\n",
       "    </tr>\n",
       "    <tr>\n",
       "      <th>1</th>\n",
       "      <td>Angola</td>\n",
       "      <td>27.0</td>\n",
       "      <td>27.0</td>\n",
       "      <td>27.0</td>\n",
       "      <td>27.0</td>\n",
       "      <td>27.0</td>\n",
       "      <td>27.0</td>\n",
       "      <td>27.0</td>\n",
       "      <td>27.0</td>\n",
       "      <td>27.0</td>\n",
       "      <td>...</td>\n",
       "      <td>50.3</td>\n",
       "      <td>50.3</td>\n",
       "      <td>49.0</td>\n",
       "      <td>50.3</td>\n",
       "      <td>51.2</td>\n",
       "      <td>51.7</td>\n",
       "      <td>51.6</td>\n",
       "      <td>50.6</td>\n",
       "      <td>51.9</td>\n",
       "      <td>52.8</td>\n",
       "    </tr>\n",
       "    <tr>\n",
       "      <th>2</th>\n",
       "      <td>Albania</td>\n",
       "      <td>35.4</td>\n",
       "      <td>35.4</td>\n",
       "      <td>35.4</td>\n",
       "      <td>35.4</td>\n",
       "      <td>35.4</td>\n",
       "      <td>35.4</td>\n",
       "      <td>35.4</td>\n",
       "      <td>35.4</td>\n",
       "      <td>35.4</td>\n",
       "      <td>...</td>\n",
       "      <td>72.6</td>\n",
       "      <td>73.2</td>\n",
       "      <td>73.8</td>\n",
       "      <td>74.6</td>\n",
       "      <td>74.6</td>\n",
       "      <td>74.5</td>\n",
       "      <td>72.9</td>\n",
       "      <td>74.8</td>\n",
       "      <td>75.1</td>\n",
       "      <td>75.4</td>\n",
       "    </tr>\n",
       "    <tr>\n",
       "      <th>4</th>\n",
       "      <td>United Arab Emirates</td>\n",
       "      <td>30.7</td>\n",
       "      <td>30.7</td>\n",
       "      <td>30.7</td>\n",
       "      <td>30.7</td>\n",
       "      <td>30.7</td>\n",
       "      <td>30.7</td>\n",
       "      <td>30.7</td>\n",
       "      <td>30.7</td>\n",
       "      <td>30.7</td>\n",
       "      <td>...</td>\n",
       "      <td>68.7</td>\n",
       "      <td>68.8</td>\n",
       "      <td>68.8</td>\n",
       "      <td>68.7</td>\n",
       "      <td>68.8</td>\n",
       "      <td>68.9</td>\n",
       "      <td>69.0</td>\n",
       "      <td>69.2</td>\n",
       "      <td>69.2</td>\n",
       "      <td>69.1</td>\n",
       "    </tr>\n",
       "    <tr>\n",
       "      <th>5</th>\n",
       "      <td>Argentina</td>\n",
       "      <td>33.2</td>\n",
       "      <td>33.2</td>\n",
       "      <td>33.2</td>\n",
       "      <td>33.2</td>\n",
       "      <td>33.2</td>\n",
       "      <td>33.2</td>\n",
       "      <td>33.2</td>\n",
       "      <td>33.2</td>\n",
       "      <td>33.2</td>\n",
       "      <td>...</td>\n",
       "      <td>72.7</td>\n",
       "      <td>72.8</td>\n",
       "      <td>73.0</td>\n",
       "      <td>73.4</td>\n",
       "      <td>73.4</td>\n",
       "      <td>73.5</td>\n",
       "      <td>73.6</td>\n",
       "      <td>73.7</td>\n",
       "      <td>73.8</td>\n",
       "      <td>74.2</td>\n",
       "    </tr>\n",
       "    <tr>\n",
       "      <th>...</th>\n",
       "      <td>...</td>\n",
       "      <td>...</td>\n",
       "      <td>...</td>\n",
       "      <td>...</td>\n",
       "      <td>...</td>\n",
       "      <td>...</td>\n",
       "      <td>...</td>\n",
       "      <td>...</td>\n",
       "      <td>...</td>\n",
       "      <td>...</td>\n",
       "      <td>...</td>\n",
       "      <td>...</td>\n",
       "      <td>...</td>\n",
       "      <td>...</td>\n",
       "      <td>...</td>\n",
       "      <td>...</td>\n",
       "      <td>...</td>\n",
       "      <td>...</td>\n",
       "      <td>...</td>\n",
       "      <td>...</td>\n",
       "      <td>...</td>\n",
       "    </tr>\n",
       "    <tr>\n",
       "      <th>190</th>\n",
       "      <td>Samoa</td>\n",
       "      <td>25.4</td>\n",
       "      <td>25.4</td>\n",
       "      <td>25.4</td>\n",
       "      <td>25.4</td>\n",
       "      <td>25.4</td>\n",
       "      <td>25.4</td>\n",
       "      <td>25.4</td>\n",
       "      <td>25.4</td>\n",
       "      <td>25.4</td>\n",
       "      <td>...</td>\n",
       "      <td>66.9</td>\n",
       "      <td>67.2</td>\n",
       "      <td>67.4</td>\n",
       "      <td>67.5</td>\n",
       "      <td>67.7</td>\n",
       "      <td>67.8</td>\n",
       "      <td>68.0</td>\n",
       "      <td>68.2</td>\n",
       "      <td>68.3</td>\n",
       "      <td>68.5</td>\n",
       "    </tr>\n",
       "    <tr>\n",
       "      <th>191</th>\n",
       "      <td>Yemen</td>\n",
       "      <td>23.4</td>\n",
       "      <td>23.4</td>\n",
       "      <td>23.4</td>\n",
       "      <td>23.4</td>\n",
       "      <td>23.4</td>\n",
       "      <td>23.4</td>\n",
       "      <td>23.4</td>\n",
       "      <td>23.4</td>\n",
       "      <td>23.4</td>\n",
       "      <td>...</td>\n",
       "      <td>59.5</td>\n",
       "      <td>59.9</td>\n",
       "      <td>60.3</td>\n",
       "      <td>60.5</td>\n",
       "      <td>61.1</td>\n",
       "      <td>61.5</td>\n",
       "      <td>62.0</td>\n",
       "      <td>62.5</td>\n",
       "      <td>63.0</td>\n",
       "      <td>63.5</td>\n",
       "    </tr>\n",
       "    <tr>\n",
       "      <th>192</th>\n",
       "      <td>South Africa</td>\n",
       "      <td>33.5</td>\n",
       "      <td>33.5</td>\n",
       "      <td>33.5</td>\n",
       "      <td>33.5</td>\n",
       "      <td>33.5</td>\n",
       "      <td>33.5</td>\n",
       "      <td>33.5</td>\n",
       "      <td>33.5</td>\n",
       "      <td>33.5</td>\n",
       "      <td>...</td>\n",
       "      <td>64.3</td>\n",
       "      <td>63.6</td>\n",
       "      <td>64.3</td>\n",
       "      <td>63.4</td>\n",
       "      <td>62.9</td>\n",
       "      <td>61.8</td>\n",
       "      <td>59.5</td>\n",
       "      <td>58.0</td>\n",
       "      <td>57.2</td>\n",
       "      <td>55.6</td>\n",
       "    </tr>\n",
       "    <tr>\n",
       "      <th>193</th>\n",
       "      <td>Zambia</td>\n",
       "      <td>32.6</td>\n",
       "      <td>32.6</td>\n",
       "      <td>32.6</td>\n",
       "      <td>32.6</td>\n",
       "      <td>32.6</td>\n",
       "      <td>32.6</td>\n",
       "      <td>32.6</td>\n",
       "      <td>32.6</td>\n",
       "      <td>32.6</td>\n",
       "      <td>...</td>\n",
       "      <td>50.7</td>\n",
       "      <td>49.6</td>\n",
       "      <td>48.7</td>\n",
       "      <td>47.7</td>\n",
       "      <td>46.8</td>\n",
       "      <td>46.1</td>\n",
       "      <td>45.7</td>\n",
       "      <td>45.5</td>\n",
       "      <td>45.3</td>\n",
       "      <td>45.3</td>\n",
       "    </tr>\n",
       "    <tr>\n",
       "      <th>194</th>\n",
       "      <td>Zimbabwe</td>\n",
       "      <td>33.7</td>\n",
       "      <td>33.7</td>\n",
       "      <td>33.7</td>\n",
       "      <td>33.7</td>\n",
       "      <td>33.7</td>\n",
       "      <td>33.7</td>\n",
       "      <td>33.7</td>\n",
       "      <td>33.7</td>\n",
       "      <td>33.7</td>\n",
       "      <td>...</td>\n",
       "      <td>61.4</td>\n",
       "      <td>59.8</td>\n",
       "      <td>58.0</td>\n",
       "      <td>56.2</td>\n",
       "      <td>54.2</td>\n",
       "      <td>52.5</td>\n",
       "      <td>51.2</td>\n",
       "      <td>49.7</td>\n",
       "      <td>48.5</td>\n",
       "      <td>47.5</td>\n",
       "    </tr>\n",
       "  </tbody>\n",
       "</table>\n",
       "<p>186 rows × 202 columns</p>\n",
       "</div>"
      ],
      "text/plain": [
       "                  country  1800  1801  1802  1803  1804  1805  1806  1807  \\\n",
       "0             Afghanistan  28.2  28.2  28.2  28.2  28.2  28.2  28.1  28.1   \n",
       "1                  Angola  27.0  27.0  27.0  27.0  27.0  27.0  27.0  27.0   \n",
       "2                 Albania  35.4  35.4  35.4  35.4  35.4  35.4  35.4  35.4   \n",
       "4    United Arab Emirates  30.7  30.7  30.7  30.7  30.7  30.7  30.7  30.7   \n",
       "5               Argentina  33.2  33.2  33.2  33.2  33.2  33.2  33.2  33.2   \n",
       "..                    ...   ...   ...   ...   ...   ...   ...   ...   ...   \n",
       "190                 Samoa  25.4  25.4  25.4  25.4  25.4  25.4  25.4  25.4   \n",
       "191                 Yemen  23.4  23.4  23.4  23.4  23.4  23.4  23.4  23.4   \n",
       "192          South Africa  33.5  33.5  33.5  33.5  33.5  33.5  33.5  33.5   \n",
       "193                Zambia  32.6  32.6  32.6  32.6  32.6  32.6  32.6  32.6   \n",
       "194              Zimbabwe  33.7  33.7  33.7  33.7  33.7  33.7  33.7  33.7   \n",
       "\n",
       "     1808  ...  1991  1992  1993  1994  1995  1996  1997  1998  1999  2000  \n",
       "0    28.1  ...  53.8  54.2  54.4  53.9  54.3  54.7  54.5  53.3  54.7  54.7  \n",
       "1    27.0  ...  50.3  50.3  49.0  50.3  51.2  51.7  51.6  50.6  51.9  52.8  \n",
       "2    35.4  ...  72.6  73.2  73.8  74.6  74.6  74.5  72.9  74.8  75.1  75.4  \n",
       "4    30.7  ...  68.7  68.8  68.8  68.7  68.8  68.9  69.0  69.2  69.2  69.1  \n",
       "5    33.2  ...  72.7  72.8  73.0  73.4  73.4  73.5  73.6  73.7  73.8  74.2  \n",
       "..    ...  ...   ...   ...   ...   ...   ...   ...   ...   ...   ...   ...  \n",
       "190  25.4  ...  66.9  67.2  67.4  67.5  67.7  67.8  68.0  68.2  68.3  68.5  \n",
       "191  23.4  ...  59.5  59.9  60.3  60.5  61.1  61.5  62.0  62.5  63.0  63.5  \n",
       "192  33.5  ...  64.3  63.6  64.3  63.4  62.9  61.8  59.5  58.0  57.2  55.6  \n",
       "193  32.6  ...  50.7  49.6  48.7  47.7  46.8  46.1  45.7  45.5  45.3  45.3  \n",
       "194  33.7  ...  61.4  59.8  58.0  56.2  54.2  52.5  51.2  49.7  48.5  47.5  \n",
       "\n",
       "[186 rows x 202 columns]"
      ]
     },
     "execution_count": 21,
     "metadata": {},
     "output_type": "execute_result"
    }
   ],
   "source": [
    "life_df_1800_2000"
   ]
  },
  {
   "cell_type": "code",
   "execution_count": 22,
   "metadata": {},
   "outputs": [
    {
     "data": {
      "text/plain": [
       "country     object\n",
       "1800       float64\n",
       "1801       float64\n",
       "1802       float64\n",
       "1803       float64\n",
       "            ...   \n",
       "1996       float64\n",
       "1997       float64\n",
       "1998       float64\n",
       "1999       float64\n",
       "2000       float64\n",
       "Length: 202, dtype: object"
      ]
     },
     "execution_count": 22,
     "metadata": {},
     "output_type": "execute_result"
    }
   ],
   "source": [
    "life_df_1800_2000.dtypes"
   ]
  },
  {
   "cell_type": "markdown",
   "metadata": {},
   "source": [
    "### Remodelons nos données à l'aide de la fonction \"melt\"\n",
    "de tel enseigne que :\n",
    " - Chaque variable est une colonne distincte.\n",
    " - Chaque ligne doit être une observation distincte."
   ]
  },
  {
   "cell_type": "code",
   "execution_count": 23,
   "metadata": {},
   "outputs": [
    {
     "data": {
      "text/html": [
       "<div>\n",
       "<style scoped>\n",
       "    .dataframe tbody tr th:only-of-type {\n",
       "        vertical-align: middle;\n",
       "    }\n",
       "\n",
       "    .dataframe tbody tr th {\n",
       "        vertical-align: top;\n",
       "    }\n",
       "\n",
       "    .dataframe thead th {\n",
       "        text-align: right;\n",
       "    }\n",
       "</style>\n",
       "<table border=\"1\" class=\"dataframe\">\n",
       "  <thead>\n",
       "    <tr style=\"text-align: right;\">\n",
       "      <th></th>\n",
       "      <th>country</th>\n",
       "      <th>year</th>\n",
       "      <th>life_ex</th>\n",
       "    </tr>\n",
       "  </thead>\n",
       "  <tbody>\n",
       "    <tr>\n",
       "      <th>0</th>\n",
       "      <td>Afghanistan</td>\n",
       "      <td>1800</td>\n",
       "      <td>28.2</td>\n",
       "    </tr>\n",
       "    <tr>\n",
       "      <th>1</th>\n",
       "      <td>Afghanistan</td>\n",
       "      <td>1801</td>\n",
       "      <td>28.2</td>\n",
       "    </tr>\n",
       "    <tr>\n",
       "      <th>2</th>\n",
       "      <td>Afghanistan</td>\n",
       "      <td>1802</td>\n",
       "      <td>28.2</td>\n",
       "    </tr>\n",
       "    <tr>\n",
       "      <th>3</th>\n",
       "      <td>Afghanistan</td>\n",
       "      <td>1803</td>\n",
       "      <td>28.2</td>\n",
       "    </tr>\n",
       "    <tr>\n",
       "      <th>4</th>\n",
       "      <td>Afghanistan</td>\n",
       "      <td>1804</td>\n",
       "      <td>28.2</td>\n",
       "    </tr>\n",
       "  </tbody>\n",
       "</table>\n",
       "</div>"
      ],
      "text/plain": [
       "       country  year  life_ex\n",
       "0  Afghanistan  1800     28.2\n",
       "1  Afghanistan  1801     28.2\n",
       "2  Afghanistan  1802     28.2\n",
       "3  Afghanistan  1803     28.2\n",
       "4  Afghanistan  1804     28.2"
      ]
     },
     "execution_count": 23,
     "metadata": {},
     "output_type": "execute_result"
    }
   ],
   "source": [
    "life_df_m = pd.melt(life_df_1800_2000,\n",
    "                    ['country'],\n",
    "                    var_name = 'year',\n",
    "                    value_name ='life_ex').sort_values(by = ['country', 'year']).reset_index(drop = True)\n",
    "\n",
    "life_df_m.head(5)"
   ]
  },
  {
   "cell_type": "code",
   "execution_count": 24,
   "metadata": {},
   "outputs": [
    {
     "data": {
      "text/html": [
       "<div>\n",
       "<style scoped>\n",
       "    .dataframe tbody tr th:only-of-type {\n",
       "        vertical-align: middle;\n",
       "    }\n",
       "\n",
       "    .dataframe tbody tr th {\n",
       "        vertical-align: top;\n",
       "    }\n",
       "\n",
       "    .dataframe thead th {\n",
       "        text-align: right;\n",
       "    }\n",
       "</style>\n",
       "<table border=\"1\" class=\"dataframe\">\n",
       "  <thead>\n",
       "    <tr style=\"text-align: right;\">\n",
       "      <th></th>\n",
       "      <th>country</th>\n",
       "      <th>year</th>\n",
       "      <th>income</th>\n",
       "    </tr>\n",
       "  </thead>\n",
       "  <tbody>\n",
       "    <tr>\n",
       "      <th>0</th>\n",
       "      <td>Afghanistan</td>\n",
       "      <td>1800</td>\n",
       "      <td>683</td>\n",
       "    </tr>\n",
       "    <tr>\n",
       "      <th>1</th>\n",
       "      <td>Afghanistan</td>\n",
       "      <td>1801</td>\n",
       "      <td>683</td>\n",
       "    </tr>\n",
       "    <tr>\n",
       "      <th>2</th>\n",
       "      <td>Afghanistan</td>\n",
       "      <td>1802</td>\n",
       "      <td>683</td>\n",
       "    </tr>\n",
       "    <tr>\n",
       "      <th>3</th>\n",
       "      <td>Afghanistan</td>\n",
       "      <td>1803</td>\n",
       "      <td>683</td>\n",
       "    </tr>\n",
       "    <tr>\n",
       "      <th>4</th>\n",
       "      <td>Afghanistan</td>\n",
       "      <td>1804</td>\n",
       "      <td>683</td>\n",
       "    </tr>\n",
       "  </tbody>\n",
       "</table>\n",
       "</div>"
      ],
      "text/plain": [
       "       country  year income\n",
       "0  Afghanistan  1800    683\n",
       "1  Afghanistan  1801    683\n",
       "2  Afghanistan  1802    683\n",
       "3  Afghanistan  1803    683\n",
       "4  Afghanistan  1804    683"
      ]
     },
     "execution_count": 24,
     "metadata": {},
     "output_type": "execute_result"
    }
   ],
   "source": [
    "Incom_df_m = pd.melt(Incom_df_1800_2000,\n",
    "                     ['country'],\n",
    "                     var_name = 'year',\n",
    "                     value_name ='income').sort_values(by = ['country', 'year']).reset_index(drop = True)\n",
    "\n",
    "Incom_df_m.head(5)"
   ]
  },
  {
   "cell_type": "markdown",
   "metadata": {},
   "source": [
    "### Combinons nos données (life_df_m & Incom_df_m) pour l'analyse à l'aide de la fonction (merge)"
   ]
  },
  {
   "cell_type": "code",
   "execution_count": 25,
   "metadata": {},
   "outputs": [],
   "source": [
    "final_df = pd.merge(life_df_m, Incom_df_m, how = 'inner', on = ['country', 'year'])"
   ]
  },
  {
   "cell_type": "code",
   "execution_count": 26,
   "metadata": {},
   "outputs": [
    {
     "data": {
      "text/html": [
       "<div>\n",
       "<style scoped>\n",
       "    .dataframe tbody tr th:only-of-type {\n",
       "        vertical-align: middle;\n",
       "    }\n",
       "\n",
       "    .dataframe tbody tr th {\n",
       "        vertical-align: top;\n",
       "    }\n",
       "\n",
       "    .dataframe thead th {\n",
       "        text-align: right;\n",
       "    }\n",
       "</style>\n",
       "<table border=\"1\" class=\"dataframe\">\n",
       "  <thead>\n",
       "    <tr style=\"text-align: right;\">\n",
       "      <th></th>\n",
       "      <th>country</th>\n",
       "      <th>year</th>\n",
       "      <th>life_ex</th>\n",
       "      <th>income</th>\n",
       "    </tr>\n",
       "  </thead>\n",
       "  <tbody>\n",
       "    <tr>\n",
       "      <th>0</th>\n",
       "      <td>Afghanistan</td>\n",
       "      <td>1800</td>\n",
       "      <td>28.2</td>\n",
       "      <td>683</td>\n",
       "    </tr>\n",
       "    <tr>\n",
       "      <th>1</th>\n",
       "      <td>Afghanistan</td>\n",
       "      <td>1801</td>\n",
       "      <td>28.2</td>\n",
       "      <td>683</td>\n",
       "    </tr>\n",
       "    <tr>\n",
       "      <th>2</th>\n",
       "      <td>Afghanistan</td>\n",
       "      <td>1802</td>\n",
       "      <td>28.2</td>\n",
       "      <td>683</td>\n",
       "    </tr>\n",
       "    <tr>\n",
       "      <th>3</th>\n",
       "      <td>Afghanistan</td>\n",
       "      <td>1803</td>\n",
       "      <td>28.2</td>\n",
       "      <td>683</td>\n",
       "    </tr>\n",
       "    <tr>\n",
       "      <th>4</th>\n",
       "      <td>Afghanistan</td>\n",
       "      <td>1804</td>\n",
       "      <td>28.2</td>\n",
       "      <td>683</td>\n",
       "    </tr>\n",
       "  </tbody>\n",
       "</table>\n",
       "</div>"
      ],
      "text/plain": [
       "       country  year  life_ex income\n",
       "0  Afghanistan  1800     28.2    683\n",
       "1  Afghanistan  1801     28.2    683\n",
       "2  Afghanistan  1802     28.2    683\n",
       "3  Afghanistan  1803     28.2    683\n",
       "4  Afghanistan  1804     28.2    683"
      ]
     },
     "execution_count": 26,
     "metadata": {},
     "output_type": "execute_result"
    }
   ],
   "source": [
    "final_df.head(5)"
   ]
  },
  {
   "cell_type": "code",
   "execution_count": 27,
   "metadata": {},
   "outputs": [
    {
     "data": {
      "text/html": [
       "<div>\n",
       "<style scoped>\n",
       "    .dataframe tbody tr th:only-of-type {\n",
       "        vertical-align: middle;\n",
       "    }\n",
       "\n",
       "    .dataframe tbody tr th {\n",
       "        vertical-align: top;\n",
       "    }\n",
       "\n",
       "    .dataframe thead th {\n",
       "        text-align: right;\n",
       "    }\n",
       "</style>\n",
       "<table border=\"1\" class=\"dataframe\">\n",
       "  <thead>\n",
       "    <tr style=\"text-align: right;\">\n",
       "      <th></th>\n",
       "      <th>country</th>\n",
       "      <th>year</th>\n",
       "      <th>life_ex</th>\n",
       "      <th>income</th>\n",
       "    </tr>\n",
       "  </thead>\n",
       "  <tbody>\n",
       "    <tr>\n",
       "      <th>37381</th>\n",
       "      <td>Zimbabwe</td>\n",
       "      <td>1996</td>\n",
       "      <td>52.5</td>\n",
       "      <td>4410</td>\n",
       "    </tr>\n",
       "    <tr>\n",
       "      <th>37382</th>\n",
       "      <td>Zimbabwe</td>\n",
       "      <td>1997</td>\n",
       "      <td>51.2</td>\n",
       "      <td>4490</td>\n",
       "    </tr>\n",
       "    <tr>\n",
       "      <th>37383</th>\n",
       "      <td>Zimbabwe</td>\n",
       "      <td>1998</td>\n",
       "      <td>49.7</td>\n",
       "      <td>4580</td>\n",
       "    </tr>\n",
       "    <tr>\n",
       "      <th>37384</th>\n",
       "      <td>Zimbabwe</td>\n",
       "      <td>1999</td>\n",
       "      <td>48.5</td>\n",
       "      <td>4510</td>\n",
       "    </tr>\n",
       "    <tr>\n",
       "      <th>37385</th>\n",
       "      <td>Zimbabwe</td>\n",
       "      <td>2000</td>\n",
       "      <td>47.5</td>\n",
       "      <td>4350</td>\n",
       "    </tr>\n",
       "  </tbody>\n",
       "</table>\n",
       "</div>"
      ],
      "text/plain": [
       "        country  year  life_ex income\n",
       "37381  Zimbabwe  1996     52.5   4410\n",
       "37382  Zimbabwe  1997     51.2   4490\n",
       "37383  Zimbabwe  1998     49.7   4580\n",
       "37384  Zimbabwe  1999     48.5   4510\n",
       "37385  Zimbabwe  2000     47.5   4350"
      ]
     },
     "execution_count": 27,
     "metadata": {},
     "output_type": "execute_result"
    }
   ],
   "source": [
    "final_df.tail(5)"
   ]
  },
  {
   "cell_type": "code",
   "execution_count": 28,
   "metadata": {},
   "outputs": [
    {
     "data": {
      "text/plain": [
       "country     object\n",
       "year        object\n",
       "life_ex    float64\n",
       "income      object\n",
       "dtype: object"
      ]
     },
     "execution_count": 28,
     "metadata": {},
     "output_type": "execute_result"
    }
   ],
   "source": [
    "final_df.dtypes"
   ]
  },
  {
   "cell_type": "markdown",
   "metadata": {},
   "source": [
    "### Affectons à chaque Pays son continent d'appartenance\n",
    "importons les bibliothèques Pycountry"
   ]
  },
  {
   "cell_type": "code",
   "execution_count": 29,
   "metadata": {},
   "outputs": [
    {
     "data": {
      "text/plain": [
       "Country(alpha_2='VA', alpha_3='VAT', flag='🇻🇦', name='Holy See (Vatican City State)', numeric='336')"
      ]
     },
     "execution_count": 29,
     "metadata": {},
     "output_type": "execute_result"
    }
   ],
   "source": [
    "import pycountry_convert as pc\n",
    "import pycountry as pcs\n",
    "\n",
    "#list(pcs.countries)[51] à la norme iso 3166-2\n",
    "pcs.countries.get(alpha_2='VA')"
   ]
  },
  {
   "cell_type": "code",
   "execution_count": 30,
   "metadata": {},
   "outputs": [],
   "source": [
    "dict_pays = {\"Island\": \"Christmas Island\",\n",
    "             \"Cote d'Ivoire\":\"Côte d'Ivoire\", \n",
    "             \"Congo, Dem. Rep.\": \"Congo, The Democratic Republic of the\", \n",
    "             \"Congo, Rep.\": \"Congo\",\n",
    "             \"Micronesia, Fed. Sts.\": \"Micronesia, Federated States of\",\n",
    "             \"Hong Kong, China\": \"Hong Kong Special Administrative Region of China\",\n",
    "            \"Lao\": \"Lao People's Democratic Republic\",\n",
    "            \"Macao, China\": \"Macao Special Administrative Region of China\",\n",
    "            \"St. Vincent and the Grenadines\": \"Saint Vincent and the Grenadines\",\n",
    "            \"TL\": \"Democratic Republic of Timor-Leste\",\n",
    "            \"Virgin Islands (U.S.)\": \"Virgin Islands of the United States\"}\n",
    "\n",
    "final_df.country.replace(dict_pays, inplace = True)"
   ]
  },
  {
   "cell_type": "code",
   "execution_count": 31,
   "metadata": {},
   "outputs": [],
   "source": [
    "#documentation relative à pycountry_convert\n",
    "\n",
    "def convert (row):\n",
    "    #convertir le nom du pays en code de pays\n",
    "    country_code = pc.country_name_to_country_alpha2(row.country, cn_name_format =\"default\")\n",
    "    \n",
    "    # convertir le cn_code en code de continent\n",
    "    try:\n",
    "        conti_code = pc.country_alpha2_to_continent_code(country_code)\n",
    "    except:\n",
    "        if country_code == 'TL':\n",
    "            conti_code = 'AS'\n",
    "        else:\n",
    "            print(\"Country code {} not found yet\".format(country_code))\n",
    "    return conti_code"
   ]
  },
  {
   "cell_type": "code",
   "execution_count": 32,
   "metadata": {
    "scrolled": true
   },
   "outputs": [],
   "source": [
    "final_df['continent']=final_df.apply(convert, axis = 1)"
   ]
  },
  {
   "cell_type": "code",
   "execution_count": 33,
   "metadata": {},
   "outputs": [
    {
     "data": {
      "text/html": [
       "<div>\n",
       "<style scoped>\n",
       "    .dataframe tbody tr th:only-of-type {\n",
       "        vertical-align: middle;\n",
       "    }\n",
       "\n",
       "    .dataframe tbody tr th {\n",
       "        vertical-align: top;\n",
       "    }\n",
       "\n",
       "    .dataframe thead th {\n",
       "        text-align: right;\n",
       "    }\n",
       "</style>\n",
       "<table border=\"1\" class=\"dataframe\">\n",
       "  <thead>\n",
       "    <tr style=\"text-align: right;\">\n",
       "      <th></th>\n",
       "      <th>country</th>\n",
       "      <th>year</th>\n",
       "      <th>life_ex</th>\n",
       "      <th>income</th>\n",
       "      <th>continent</th>\n",
       "    </tr>\n",
       "  </thead>\n",
       "  <tbody>\n",
       "    <tr>\n",
       "      <th>0</th>\n",
       "      <td>Afghanistan</td>\n",
       "      <td>1800</td>\n",
       "      <td>28.2</td>\n",
       "      <td>683</td>\n",
       "      <td>AS</td>\n",
       "    </tr>\n",
       "    <tr>\n",
       "      <th>1</th>\n",
       "      <td>Afghanistan</td>\n",
       "      <td>1801</td>\n",
       "      <td>28.2</td>\n",
       "      <td>683</td>\n",
       "      <td>AS</td>\n",
       "    </tr>\n",
       "    <tr>\n",
       "      <th>2</th>\n",
       "      <td>Afghanistan</td>\n",
       "      <td>1802</td>\n",
       "      <td>28.2</td>\n",
       "      <td>683</td>\n",
       "      <td>AS</td>\n",
       "    </tr>\n",
       "    <tr>\n",
       "      <th>3</th>\n",
       "      <td>Afghanistan</td>\n",
       "      <td>1803</td>\n",
       "      <td>28.2</td>\n",
       "      <td>683</td>\n",
       "      <td>AS</td>\n",
       "    </tr>\n",
       "    <tr>\n",
       "      <th>4</th>\n",
       "      <td>Afghanistan</td>\n",
       "      <td>1804</td>\n",
       "      <td>28.2</td>\n",
       "      <td>683</td>\n",
       "      <td>AS</td>\n",
       "    </tr>\n",
       "    <tr>\n",
       "      <th>...</th>\n",
       "      <td>...</td>\n",
       "      <td>...</td>\n",
       "      <td>...</td>\n",
       "      <td>...</td>\n",
       "      <td>...</td>\n",
       "    </tr>\n",
       "    <tr>\n",
       "      <th>37381</th>\n",
       "      <td>Zimbabwe</td>\n",
       "      <td>1996</td>\n",
       "      <td>52.5</td>\n",
       "      <td>4410</td>\n",
       "      <td>AF</td>\n",
       "    </tr>\n",
       "    <tr>\n",
       "      <th>37382</th>\n",
       "      <td>Zimbabwe</td>\n",
       "      <td>1997</td>\n",
       "      <td>51.2</td>\n",
       "      <td>4490</td>\n",
       "      <td>AF</td>\n",
       "    </tr>\n",
       "    <tr>\n",
       "      <th>37383</th>\n",
       "      <td>Zimbabwe</td>\n",
       "      <td>1998</td>\n",
       "      <td>49.7</td>\n",
       "      <td>4580</td>\n",
       "      <td>AF</td>\n",
       "    </tr>\n",
       "    <tr>\n",
       "      <th>37384</th>\n",
       "      <td>Zimbabwe</td>\n",
       "      <td>1999</td>\n",
       "      <td>48.5</td>\n",
       "      <td>4510</td>\n",
       "      <td>AF</td>\n",
       "    </tr>\n",
       "    <tr>\n",
       "      <th>37385</th>\n",
       "      <td>Zimbabwe</td>\n",
       "      <td>2000</td>\n",
       "      <td>47.5</td>\n",
       "      <td>4350</td>\n",
       "      <td>AF</td>\n",
       "    </tr>\n",
       "  </tbody>\n",
       "</table>\n",
       "<p>37386 rows × 5 columns</p>\n",
       "</div>"
      ],
      "text/plain": [
       "           country  year  life_ex income continent\n",
       "0      Afghanistan  1800     28.2    683        AS\n",
       "1      Afghanistan  1801     28.2    683        AS\n",
       "2      Afghanistan  1802     28.2    683        AS\n",
       "3      Afghanistan  1803     28.2    683        AS\n",
       "4      Afghanistan  1804     28.2    683        AS\n",
       "...            ...   ...      ...    ...       ...\n",
       "37381     Zimbabwe  1996     52.5   4410        AF\n",
       "37382     Zimbabwe  1997     51.2   4490        AF\n",
       "37383     Zimbabwe  1998     49.7   4580        AF\n",
       "37384     Zimbabwe  1999     48.5   4510        AF\n",
       "37385     Zimbabwe  2000     47.5   4350        AF\n",
       "\n",
       "[37386 rows x 5 columns]"
      ]
     },
     "execution_count": 33,
     "metadata": {},
     "output_type": "execute_result"
    }
   ],
   "source": [
    "final_df"
   ]
  },
  {
   "cell_type": "code",
   "execution_count": 34,
   "metadata": {
    "scrolled": false
   },
   "outputs": [
    {
     "data": {
      "text/plain": [
       "country       object\n",
       "year          object\n",
       "life_ex      float64\n",
       "income        object\n",
       "continent     object\n",
       "dtype: object"
      ]
     },
     "execution_count": 34,
     "metadata": {},
     "output_type": "execute_result"
    }
   ],
   "source": [
    "final_df.dtypes"
   ]
  },
  {
   "cell_type": "markdown",
   "metadata": {},
   "source": [
    "## Supprimons les valeurs avec K dans notre colonne income"
   ]
  },
  {
   "cell_type": "code",
   "execution_count": 35,
   "metadata": {},
   "outputs": [],
   "source": [
    "final_df_test = final_df.copy()"
   ]
  },
  {
   "cell_type": "code",
   "execution_count": 36,
   "metadata": {},
   "outputs": [
    {
     "data": {
      "text/html": [
       "<div>\n",
       "<style scoped>\n",
       "    .dataframe tbody tr th:only-of-type {\n",
       "        vertical-align: middle;\n",
       "    }\n",
       "\n",
       "    .dataframe tbody tr th {\n",
       "        vertical-align: top;\n",
       "    }\n",
       "\n",
       "    .dataframe thead th {\n",
       "        text-align: right;\n",
       "    }\n",
       "</style>\n",
       "<table border=\"1\" class=\"dataframe\">\n",
       "  <thead>\n",
       "    <tr style=\"text-align: right;\">\n",
       "      <th></th>\n",
       "      <th>country</th>\n",
       "      <th>year</th>\n",
       "      <th>life_ex</th>\n",
       "      <th>income</th>\n",
       "      <th>continent</th>\n",
       "    </tr>\n",
       "  </thead>\n",
       "  <tbody>\n",
       "    <tr>\n",
       "      <th>0</th>\n",
       "      <td>Afghanistan</td>\n",
       "      <td>1800</td>\n",
       "      <td>28.2</td>\n",
       "      <td>683</td>\n",
       "      <td>AS</td>\n",
       "    </tr>\n",
       "    <tr>\n",
       "      <th>1</th>\n",
       "      <td>Afghanistan</td>\n",
       "      <td>1801</td>\n",
       "      <td>28.2</td>\n",
       "      <td>683</td>\n",
       "      <td>AS</td>\n",
       "    </tr>\n",
       "    <tr>\n",
       "      <th>2</th>\n",
       "      <td>Afghanistan</td>\n",
       "      <td>1802</td>\n",
       "      <td>28.2</td>\n",
       "      <td>683</td>\n",
       "      <td>AS</td>\n",
       "    </tr>\n",
       "    <tr>\n",
       "      <th>3</th>\n",
       "      <td>Afghanistan</td>\n",
       "      <td>1803</td>\n",
       "      <td>28.2</td>\n",
       "      <td>683</td>\n",
       "      <td>AS</td>\n",
       "    </tr>\n",
       "    <tr>\n",
       "      <th>4</th>\n",
       "      <td>Afghanistan</td>\n",
       "      <td>1804</td>\n",
       "      <td>28.2</td>\n",
       "      <td>683</td>\n",
       "      <td>AS</td>\n",
       "    </tr>\n",
       "    <tr>\n",
       "      <th>...</th>\n",
       "      <td>...</td>\n",
       "      <td>...</td>\n",
       "      <td>...</td>\n",
       "      <td>...</td>\n",
       "      <td>...</td>\n",
       "    </tr>\n",
       "    <tr>\n",
       "      <th>37381</th>\n",
       "      <td>Zimbabwe</td>\n",
       "      <td>1996</td>\n",
       "      <td>52.5</td>\n",
       "      <td>4410</td>\n",
       "      <td>AF</td>\n",
       "    </tr>\n",
       "    <tr>\n",
       "      <th>37382</th>\n",
       "      <td>Zimbabwe</td>\n",
       "      <td>1997</td>\n",
       "      <td>51.2</td>\n",
       "      <td>4490</td>\n",
       "      <td>AF</td>\n",
       "    </tr>\n",
       "    <tr>\n",
       "      <th>37383</th>\n",
       "      <td>Zimbabwe</td>\n",
       "      <td>1998</td>\n",
       "      <td>49.7</td>\n",
       "      <td>4580</td>\n",
       "      <td>AF</td>\n",
       "    </tr>\n",
       "    <tr>\n",
       "      <th>37384</th>\n",
       "      <td>Zimbabwe</td>\n",
       "      <td>1999</td>\n",
       "      <td>48.5</td>\n",
       "      <td>4510</td>\n",
       "      <td>AF</td>\n",
       "    </tr>\n",
       "    <tr>\n",
       "      <th>37385</th>\n",
       "      <td>Zimbabwe</td>\n",
       "      <td>2000</td>\n",
       "      <td>47.5</td>\n",
       "      <td>4350</td>\n",
       "      <td>AF</td>\n",
       "    </tr>\n",
       "  </tbody>\n",
       "</table>\n",
       "<p>37386 rows × 5 columns</p>\n",
       "</div>"
      ],
      "text/plain": [
       "           country  year  life_ex income continent\n",
       "0      Afghanistan  1800     28.2    683        AS\n",
       "1      Afghanistan  1801     28.2    683        AS\n",
       "2      Afghanistan  1802     28.2    683        AS\n",
       "3      Afghanistan  1803     28.2    683        AS\n",
       "4      Afghanistan  1804     28.2    683        AS\n",
       "...            ...   ...      ...    ...       ...\n",
       "37381     Zimbabwe  1996     52.5   4410        AF\n",
       "37382     Zimbabwe  1997     51.2   4490        AF\n",
       "37383     Zimbabwe  1998     49.7   4580        AF\n",
       "37384     Zimbabwe  1999     48.5   4510        AF\n",
       "37385     Zimbabwe  2000     47.5   4350        AF\n",
       "\n",
       "[37386 rows x 5 columns]"
      ]
     },
     "execution_count": 36,
     "metadata": {},
     "output_type": "execute_result"
    }
   ],
   "source": [
    "final_df_test.fillna(0)"
   ]
  },
  {
   "cell_type": "code",
   "execution_count": 37,
   "metadata": {},
   "outputs": [],
   "source": [
    "final_df_test['income'] = final_df_test[\"income\"].replace({\"k\":\"*1e3\"}, regex=True).map(pd.eval).astype(int)"
   ]
  },
  {
   "cell_type": "code",
   "execution_count": 38,
   "metadata": {},
   "outputs": [
    {
     "data": {
      "text/plain": [
       "country      Antigua and Barbuda\n",
       "year                        1985\n",
       "life_ex                     73.8\n",
       "income                     10900\n",
       "continent                     NA\n",
       "Name: 989, dtype: object"
      ]
     },
     "execution_count": 38,
     "metadata": {},
     "output_type": "execute_result"
    }
   ],
   "source": [
    "final_df_test.iloc[989]"
   ]
  },
  {
   "cell_type": "markdown",
   "metadata": {},
   "source": [
    "sur notre final_df test, nous avons pu multiplier par 1000 les avaleur avec k (10.50k) nous allons dons faire le même travail avec notre final_df. ce qui nous permettre de poursuivre plaiement nos travaux"
   ]
  },
  {
   "cell_type": "code",
   "execution_count": 41,
   "metadata": {},
   "outputs": [],
   "source": [
    "final_df['income'] = final_df[\"income\"].replace({\"k\":\"*1e3\"}, regex=True).map(pd.eval).astype(int)"
   ]
  },
  {
   "cell_type": "code",
   "execution_count": 42,
   "metadata": {},
   "outputs": [
    {
     "data": {
      "text/plain": [
       "country      Antigua and Barbuda\n",
       "year                        1985\n",
       "life_ex                     73.8\n",
       "income                     10900\n",
       "continent                     NA\n",
       "Name: 989, dtype: object"
      ]
     },
     "execution_count": 42,
     "metadata": {},
     "output_type": "execute_result"
    }
   ],
   "source": [
    "final_df.iloc[989]"
   ]
  },
  {
   "cell_type": "code",
   "execution_count": 43,
   "metadata": {},
   "outputs": [
    {
     "data": {
      "text/html": [
       "<div>\n",
       "<style scoped>\n",
       "    .dataframe tbody tr th:only-of-type {\n",
       "        vertical-align: middle;\n",
       "    }\n",
       "\n",
       "    .dataframe tbody tr th {\n",
       "        vertical-align: top;\n",
       "    }\n",
       "\n",
       "    .dataframe thead th {\n",
       "        text-align: right;\n",
       "    }\n",
       "</style>\n",
       "<table border=\"1\" class=\"dataframe\">\n",
       "  <thead>\n",
       "    <tr style=\"text-align: right;\">\n",
       "      <th></th>\n",
       "      <th>country</th>\n",
       "      <th>year</th>\n",
       "      <th>life_ex</th>\n",
       "      <th>income</th>\n",
       "      <th>continent</th>\n",
       "    </tr>\n",
       "  </thead>\n",
       "  <tbody>\n",
       "    <tr>\n",
       "      <th>0</th>\n",
       "      <td>Afghanistan</td>\n",
       "      <td>1800</td>\n",
       "      <td>28.2</td>\n",
       "      <td>683</td>\n",
       "      <td>AS</td>\n",
       "    </tr>\n",
       "    <tr>\n",
       "      <th>1</th>\n",
       "      <td>Afghanistan</td>\n",
       "      <td>1801</td>\n",
       "      <td>28.2</td>\n",
       "      <td>683</td>\n",
       "      <td>AS</td>\n",
       "    </tr>\n",
       "    <tr>\n",
       "      <th>2</th>\n",
       "      <td>Afghanistan</td>\n",
       "      <td>1802</td>\n",
       "      <td>28.2</td>\n",
       "      <td>683</td>\n",
       "      <td>AS</td>\n",
       "    </tr>\n",
       "    <tr>\n",
       "      <th>3</th>\n",
       "      <td>Afghanistan</td>\n",
       "      <td>1803</td>\n",
       "      <td>28.2</td>\n",
       "      <td>683</td>\n",
       "      <td>AS</td>\n",
       "    </tr>\n",
       "    <tr>\n",
       "      <th>4</th>\n",
       "      <td>Afghanistan</td>\n",
       "      <td>1804</td>\n",
       "      <td>28.2</td>\n",
       "      <td>683</td>\n",
       "      <td>AS</td>\n",
       "    </tr>\n",
       "    <tr>\n",
       "      <th>...</th>\n",
       "      <td>...</td>\n",
       "      <td>...</td>\n",
       "      <td>...</td>\n",
       "      <td>...</td>\n",
       "      <td>...</td>\n",
       "    </tr>\n",
       "    <tr>\n",
       "      <th>37381</th>\n",
       "      <td>Zimbabwe</td>\n",
       "      <td>1996</td>\n",
       "      <td>52.5</td>\n",
       "      <td>4410</td>\n",
       "      <td>AF</td>\n",
       "    </tr>\n",
       "    <tr>\n",
       "      <th>37382</th>\n",
       "      <td>Zimbabwe</td>\n",
       "      <td>1997</td>\n",
       "      <td>51.2</td>\n",
       "      <td>4490</td>\n",
       "      <td>AF</td>\n",
       "    </tr>\n",
       "    <tr>\n",
       "      <th>37383</th>\n",
       "      <td>Zimbabwe</td>\n",
       "      <td>1998</td>\n",
       "      <td>49.7</td>\n",
       "      <td>4580</td>\n",
       "      <td>AF</td>\n",
       "    </tr>\n",
       "    <tr>\n",
       "      <th>37384</th>\n",
       "      <td>Zimbabwe</td>\n",
       "      <td>1999</td>\n",
       "      <td>48.5</td>\n",
       "      <td>4510</td>\n",
       "      <td>AF</td>\n",
       "    </tr>\n",
       "    <tr>\n",
       "      <th>37385</th>\n",
       "      <td>Zimbabwe</td>\n",
       "      <td>2000</td>\n",
       "      <td>47.5</td>\n",
       "      <td>4350</td>\n",
       "      <td>AF</td>\n",
       "    </tr>\n",
       "  </tbody>\n",
       "</table>\n",
       "<p>37386 rows × 5 columns</p>\n",
       "</div>"
      ],
      "text/plain": [
       "           country  year  life_ex  income continent\n",
       "0      Afghanistan  1800     28.2     683        AS\n",
       "1      Afghanistan  1801     28.2     683        AS\n",
       "2      Afghanistan  1802     28.2     683        AS\n",
       "3      Afghanistan  1803     28.2     683        AS\n",
       "4      Afghanistan  1804     28.2     683        AS\n",
       "...            ...   ...      ...     ...       ...\n",
       "37381     Zimbabwe  1996     52.5    4410        AF\n",
       "37382     Zimbabwe  1997     51.2    4490        AF\n",
       "37383     Zimbabwe  1998     49.7    4580        AF\n",
       "37384     Zimbabwe  1999     48.5    4510        AF\n",
       "37385     Zimbabwe  2000     47.5    4350        AF\n",
       "\n",
       "[37386 rows x 5 columns]"
      ]
     },
     "execution_count": 43,
     "metadata": {},
     "output_type": "execute_result"
    }
   ],
   "source": [
    "final_df"
   ]
  },
  {
   "cell_type": "markdown",
   "metadata": {},
   "source": [
    "### ***Modifions les types de nos données pours l'année ***"
   ]
  },
  {
   "cell_type": "code",
   "execution_count": 44,
   "metadata": {},
   "outputs": [],
   "source": [
    "final_df ['year']= pd.to_datetime(final_df['year'])"
   ]
  },
  {
   "cell_type": "code",
   "execution_count": 45,
   "metadata": {},
   "outputs": [
    {
     "data": {
      "text/plain": [
       "country              object\n",
       "year         datetime64[ns]\n",
       "life_ex             float64\n",
       "income                int32\n",
       "continent            object\n",
       "dtype: object"
      ]
     },
     "execution_count": 45,
     "metadata": {},
     "output_type": "execute_result"
    }
   ],
   "source": [
    "final_df.dtypes"
   ]
  },
  {
   "cell_type": "markdown",
   "metadata": {},
   "source": [
    "## Identifions nos intervalles de travaux"
   ]
  },
  {
   "cell_type": "code",
   "execution_count": 47,
   "metadata": {},
   "outputs": [
    {
     "data": {
      "text/html": [
       "<div>\n",
       "<style scoped>\n",
       "    .dataframe tbody tr th:only-of-type {\n",
       "        vertical-align: middle;\n",
       "    }\n",
       "\n",
       "    .dataframe tbody tr th {\n",
       "        vertical-align: top;\n",
       "    }\n",
       "\n",
       "    .dataframe thead th {\n",
       "        text-align: right;\n",
       "    }\n",
       "</style>\n",
       "<table border=\"1\" class=\"dataframe\">\n",
       "  <thead>\n",
       "    <tr style=\"text-align: right;\">\n",
       "      <th></th>\n",
       "      <th>country</th>\n",
       "      <th>year</th>\n",
       "      <th>life_ex</th>\n",
       "      <th>income</th>\n",
       "      <th>continent</th>\n",
       "    </tr>\n",
       "  </thead>\n",
       "  <tbody>\n",
       "    <tr>\n",
       "      <th>0</th>\n",
       "      <td>Afghanistan</td>\n",
       "      <td>1800-01-01</td>\n",
       "      <td>28.2</td>\n",
       "      <td>683</td>\n",
       "      <td>AS</td>\n",
       "    </tr>\n",
       "    <tr>\n",
       "      <th>201</th>\n",
       "      <td>Albania</td>\n",
       "      <td>1800-01-01</td>\n",
       "      <td>35.4</td>\n",
       "      <td>755</td>\n",
       "      <td>EU</td>\n",
       "    </tr>\n",
       "    <tr>\n",
       "      <th>402</th>\n",
       "      <td>Algeria</td>\n",
       "      <td>1800-01-01</td>\n",
       "      <td>28.8</td>\n",
       "      <td>796</td>\n",
       "      <td>AF</td>\n",
       "    </tr>\n",
       "    <tr>\n",
       "      <th>603</th>\n",
       "      <td>Angola</td>\n",
       "      <td>1800-01-01</td>\n",
       "      <td>27.0</td>\n",
       "      <td>700</td>\n",
       "      <td>AF</td>\n",
       "    </tr>\n",
       "    <tr>\n",
       "      <th>804</th>\n",
       "      <td>Antigua and Barbuda</td>\n",
       "      <td>1800-01-01</td>\n",
       "      <td>33.5</td>\n",
       "      <td>857</td>\n",
       "      <td>NA</td>\n",
       "    </tr>\n",
       "    <tr>\n",
       "      <th>...</th>\n",
       "      <td>...</td>\n",
       "      <td>...</td>\n",
       "      <td>...</td>\n",
       "      <td>...</td>\n",
       "      <td>...</td>\n",
       "    </tr>\n",
       "    <tr>\n",
       "      <th>36381</th>\n",
       "      <td>Venezuela</td>\n",
       "      <td>1800-01-01</td>\n",
       "      <td>32.2</td>\n",
       "      <td>1250</td>\n",
       "      <td>SA</td>\n",
       "    </tr>\n",
       "    <tr>\n",
       "      <th>36582</th>\n",
       "      <td>Vietnam</td>\n",
       "      <td>1800-01-01</td>\n",
       "      <td>32.0</td>\n",
       "      <td>976</td>\n",
       "      <td>AS</td>\n",
       "    </tr>\n",
       "    <tr>\n",
       "      <th>36783</th>\n",
       "      <td>Yemen</td>\n",
       "      <td>1800-01-01</td>\n",
       "      <td>23.4</td>\n",
       "      <td>993</td>\n",
       "      <td>AS</td>\n",
       "    </tr>\n",
       "    <tr>\n",
       "      <th>36984</th>\n",
       "      <td>Zambia</td>\n",
       "      <td>1800-01-01</td>\n",
       "      <td>32.6</td>\n",
       "      <td>751</td>\n",
       "      <td>AF</td>\n",
       "    </tr>\n",
       "    <tr>\n",
       "      <th>37185</th>\n",
       "      <td>Zimbabwe</td>\n",
       "      <td>1800-01-01</td>\n",
       "      <td>33.7</td>\n",
       "      <td>984</td>\n",
       "      <td>AF</td>\n",
       "    </tr>\n",
       "  </tbody>\n",
       "</table>\n",
       "<p>186 rows × 5 columns</p>\n",
       "</div>"
      ],
      "text/plain": [
       "                   country       year  life_ex  income continent\n",
       "0              Afghanistan 1800-01-01     28.2     683        AS\n",
       "201                Albania 1800-01-01     35.4     755        EU\n",
       "402                Algeria 1800-01-01     28.8     796        AF\n",
       "603                 Angola 1800-01-01     27.0     700        AF\n",
       "804    Antigua and Barbuda 1800-01-01     33.5     857        NA\n",
       "...                    ...        ...      ...     ...       ...\n",
       "36381            Venezuela 1800-01-01     32.2    1250        SA\n",
       "36582              Vietnam 1800-01-01     32.0     976        AS\n",
       "36783                Yemen 1800-01-01     23.4     993        AS\n",
       "36984               Zambia 1800-01-01     32.6     751        AF\n",
       "37185             Zimbabwe 1800-01-01     33.7     984        AF\n",
       "\n",
       "[186 rows x 5 columns]"
      ]
     },
     "execution_count": 47,
     "metadata": {},
     "output_type": "execute_result"
    }
   ],
   "source": [
    "final_df_1800 = final_df.query(\"year==1800\")\n",
    "\n",
    "final_df_1800"
   ]
  },
  {
   "cell_type": "code",
   "execution_count": 48,
   "metadata": {},
   "outputs": [
    {
     "data": {
      "text/html": [
       "<div>\n",
       "<style scoped>\n",
       "    .dataframe tbody tr th:only-of-type {\n",
       "        vertical-align: middle;\n",
       "    }\n",
       "\n",
       "    .dataframe tbody tr th {\n",
       "        vertical-align: top;\n",
       "    }\n",
       "\n",
       "    .dataframe thead th {\n",
       "        text-align: right;\n",
       "    }\n",
       "</style>\n",
       "<table border=\"1\" class=\"dataframe\">\n",
       "  <thead>\n",
       "    <tr style=\"text-align: right;\">\n",
       "      <th></th>\n",
       "      <th>country</th>\n",
       "      <th>year</th>\n",
       "      <th>life_ex</th>\n",
       "      <th>income</th>\n",
       "      <th>continent</th>\n",
       "    </tr>\n",
       "  </thead>\n",
       "  <tbody>\n",
       "    <tr>\n",
       "      <th>200</th>\n",
       "      <td>Afghanistan</td>\n",
       "      <td>2000-01-01</td>\n",
       "      <td>54.7</td>\n",
       "      <td>584</td>\n",
       "      <td>AS</td>\n",
       "    </tr>\n",
       "    <tr>\n",
       "      <th>401</th>\n",
       "      <td>Albania</td>\n",
       "      <td>2000-01-01</td>\n",
       "      <td>75.4</td>\n",
       "      <td>5890</td>\n",
       "      <td>EU</td>\n",
       "    </tr>\n",
       "    <tr>\n",
       "      <th>602</th>\n",
       "      <td>Algeria</td>\n",
       "      <td>2000-01-01</td>\n",
       "      <td>71.0</td>\n",
       "      <td>8710</td>\n",
       "      <td>AF</td>\n",
       "    </tr>\n",
       "    <tr>\n",
       "      <th>803</th>\n",
       "      <td>Angola</td>\n",
       "      <td>2000-01-01</td>\n",
       "      <td>52.8</td>\n",
       "      <td>2340</td>\n",
       "      <td>AF</td>\n",
       "    </tr>\n",
       "    <tr>\n",
       "      <th>1004</th>\n",
       "      <td>Antigua and Barbuda</td>\n",
       "      <td>2000-01-01</td>\n",
       "      <td>74.8</td>\n",
       "      <td>18300</td>\n",
       "      <td>NA</td>\n",
       "    </tr>\n",
       "    <tr>\n",
       "      <th>...</th>\n",
       "      <td>...</td>\n",
       "      <td>...</td>\n",
       "      <td>...</td>\n",
       "      <td>...</td>\n",
       "      <td>...</td>\n",
       "    </tr>\n",
       "    <tr>\n",
       "      <th>36581</th>\n",
       "      <td>Venezuela</td>\n",
       "      <td>2000-01-01</td>\n",
       "      <td>74.2</td>\n",
       "      <td>16300</td>\n",
       "      <td>SA</td>\n",
       "    </tr>\n",
       "    <tr>\n",
       "      <th>36782</th>\n",
       "      <td>Vietnam</td>\n",
       "      <td>2000-01-01</td>\n",
       "      <td>72.2</td>\n",
       "      <td>2960</td>\n",
       "      <td>AS</td>\n",
       "    </tr>\n",
       "    <tr>\n",
       "      <th>36983</th>\n",
       "      <td>Yemen</td>\n",
       "      <td>2000-01-01</td>\n",
       "      <td>63.5</td>\n",
       "      <td>4900</td>\n",
       "      <td>AS</td>\n",
       "    </tr>\n",
       "    <tr>\n",
       "      <th>37184</th>\n",
       "      <td>Zambia</td>\n",
       "      <td>2000-01-01</td>\n",
       "      <td>45.3</td>\n",
       "      <td>1990</td>\n",
       "      <td>AF</td>\n",
       "    </tr>\n",
       "    <tr>\n",
       "      <th>37385</th>\n",
       "      <td>Zimbabwe</td>\n",
       "      <td>2000-01-01</td>\n",
       "      <td>47.5</td>\n",
       "      <td>4350</td>\n",
       "      <td>AF</td>\n",
       "    </tr>\n",
       "  </tbody>\n",
       "</table>\n",
       "<p>186 rows × 5 columns</p>\n",
       "</div>"
      ],
      "text/plain": [
       "                   country       year  life_ex  income continent\n",
       "200            Afghanistan 2000-01-01     54.7     584        AS\n",
       "401                Albania 2000-01-01     75.4    5890        EU\n",
       "602                Algeria 2000-01-01     71.0    8710        AF\n",
       "803                 Angola 2000-01-01     52.8    2340        AF\n",
       "1004   Antigua and Barbuda 2000-01-01     74.8   18300        NA\n",
       "...                    ...        ...      ...     ...       ...\n",
       "36581            Venezuela 2000-01-01     74.2   16300        SA\n",
       "36782              Vietnam 2000-01-01     72.2    2960        AS\n",
       "36983                Yemen 2000-01-01     63.5    4900        AS\n",
       "37184               Zambia 2000-01-01     45.3    1990        AF\n",
       "37385             Zimbabwe 2000-01-01     47.5    4350        AF\n",
       "\n",
       "[186 rows x 5 columns]"
      ]
     },
     "execution_count": 48,
     "metadata": {},
     "output_type": "execute_result"
    }
   ],
   "source": [
    "final_df_2000 = final_df.query(\"year==2000\")\n",
    "\n",
    "final_df_2000"
   ]
  },
  {
   "cell_type": "code",
   "execution_count": 49,
   "metadata": {},
   "outputs": [
    {
     "data": {
      "text/plain": [
       "False"
      ]
     },
     "execution_count": 49,
     "metadata": {},
     "output_type": "execute_result"
    }
   ],
   "source": [
    "final_df_2000.equals(final_df_1800)"
   ]
  },
  {
   "cell_type": "markdown",
   "metadata": {},
   "source": [
    "# Exploration des données"
   ]
  },
  {
   "cell_type": "code",
   "execution_count": 50,
   "metadata": {},
   "outputs": [],
   "source": [
    "# Écrirons une fonction pour dessiner chaque caractéristique du jeu de données\n",
    "\n",
    "def histogram_draw(feature_name, plot_title):\n",
    "    \n",
    "    plt.hist(final_df_1800[feature_name], bins=20, alpha=0.5, label='1800')\n",
    "    plt.hist(final_df_2000[feature_name], bins=20, alpha=0.5, label='2000')\n",
    "    \n",
    "    plt.title(plot_title)\n",
    "    plt.xlabel(feature_name)\n",
    "    plt.ylabel('Frequency')\n",
    "    plt.legend(loc='upper right')\n",
    "    plt.show()"
   ]
  },
  {
   "cell_type": "code",
   "execution_count": 51,
   "metadata": {},
   "outputs": [
    {
     "data": {
      "image/png": "[encoded data removed]",
      "text/plain": [
       "<Figure size 432x288 with 1 Axes>"
      ]
     },
     "metadata": {
      "needs_background": "light"
     },
     "output_type": "display_data"
    }
   ],
   "source": [
    "histogram_draw('life_ex', 'Life expectancy in 1800 and 2000')"
   ]
  },
  {
   "cell_type": "code",
   "execution_count": 52,
   "metadata": {},
   "outputs": [
    {
     "data": {
      "image/png": "[encoded data removed]",
      "text/plain": [
       "<Figure size 432x288 with 1 Axes>"
      ]
     },
     "metadata": {
      "needs_background": "light"
     },
     "output_type": "display_data"
    }
   ],
   "source": [
    "histogram_draw('income', 'Income per person distribution in 1800 and 2000')"
   ]
  },
  {
   "cell_type": "markdown",
   "metadata": {},
   "source": [
    "## Choix de L'histogramme \n",
    "\n",
    "***nous l'avons choisi parce qu'il se prête le mieux pour résumer notre jeux de données qui ont un caractère continue et sont présentées par intervalles de valeurs. mais aussi parce qu'il est utile pour résumer un grands ensembles de données et facilite la détection d'observations des données.***\n",
    "\n",
    "\n",
    "Dans la suite des travaux nous utiliserons le diagramme en boite pour la vissaualisation de nos données."
   ]
  },
  {
   "cell_type": "markdown",
   "metadata": {},
   "source": [
    "### explorons maintenant plus profondément en utilisant des boîtes pour voir les changements dans chaque continent"
   ]
  },
  {
   "cell_type": "code",
   "execution_count": 53,
   "metadata": {},
   "outputs": [],
   "source": [
    "# Write a function to draw a box plot for each feature\n",
    "\n",
    "def box_draw(feature_name, plot_title_1, plot_title_2, log_scale=False):\n",
    "    final_df_1800.boxplot(feature_name, by='continent', rot=90)\n",
    "    plt.title(plot_title_1)\n",
    "    plt.suptitle(\"\")\n",
    "    plt.xlabel('continent')\n",
    "    plt.ylabel(feature_name)\n",
    "    if log_scale: plt.yscale('log')\n",
    "    \n",
    "    final_df_2000.boxplot(feature_name, by='continent', rot=90)\n",
    "    plt.title(plot_title_2)\n",
    "    plt.suptitle(\"\")\n",
    "    plt.xlabel('continent')\n",
    "    plt.ylabel(feature_name)\n",
    "    if log_scale: plt.yscale('log')"
   ]
  },
  {
   "cell_type": "code",
   "execution_count": 54,
   "metadata": {},
   "outputs": [
    {
     "data": {
      "image/png": "[encoded data removed]",
      "text/plain": [
       "<Figure size 432x288 with 1 Axes>"
      ]
     },
     "metadata": {
      "needs_background": "light"
     },
     "output_type": "display_data"
    },
    {
     "data": {
      "image/png": "[encoded data removed]",
      "text/plain": [
       "<Figure size 432x288 with 1 Axes>"
      ]
     },
     "metadata": {
      "needs_background": "light"
     },
     "output_type": "display_data"
    }
   ],
   "source": [
    "box_draw('life_ex', 'Life expectancy in 1800', 'Life expectancy in 2000')"
   ]
  },
  {
   "cell_type": "code",
   "execution_count": 55,
   "metadata": {},
   "outputs": [
    {
     "data": {
      "image/png": "[encoded data removed]",
      "text/plain": [
       "<Figure size 432x288 with 1 Axes>"
      ]
     },
     "metadata": {
      "needs_background": "light"
     },
     "output_type": "display_data"
    },
    {
     "data": {
      "image/png": "[encoded data removed]",
      "text/plain": [
       "<Figure size 432x288 with 1 Axes>"
      ]
     },
     "metadata": {
      "needs_background": "light"
     },
     "output_type": "display_data"
    }
   ],
   "source": [
    "box_draw('income', 'Income per person in 1800', 'Income per person in 2000', True)"
   ]
  },
  {
   "cell_type": "markdown",
   "metadata": {},
   "source": [
    "## CHoic du diagramme en boîte\n",
    "***Nous avons choisir pour ce projet d'utiliser en second le diagramme en boîte (Box plot) parce qu'il nous donne plus d'informations sur la façon dont les données se répartissent en mesurant la médiane, la moyenne et le mode de l'ensemble de données.***\n"
   ]
  },
  {
   "cell_type": "markdown",
   "metadata": {},
   "source": [
    "# Reponse aux questions posées"
   ]
  },
  {
   "cell_type": "markdown",
   "metadata": {},
   "source": [
    "### Question 1 : L'espérance de vie a-t-elle augmenté au fil du temps dans les différents continent du monde ?"
   ]
  },
  {
   "cell_type": "code",
   "execution_count": 56,
   "metadata": {},
   "outputs": [
    {
     "data": {
      "text/plain": [
       "continent\n",
       "AF    30.525926\n",
       "AS    29.970000\n",
       "EU    35.489744\n",
       "NA    31.100000\n",
       "OC    28.020000\n",
       "SA    32.950000\n",
       "Name: life_ex, dtype: float64"
      ]
     },
     "execution_count": 56,
     "metadata": {},
     "output_type": "execute_result"
    }
   ],
   "source": [
    "life_Exp_Continent_1800 = final_df_1800.groupby('continent')['life_ex'].mean()\n",
    "\n",
    "life_Exp_Continent_1800"
   ]
  },
  {
   "cell_type": "code",
   "execution_count": 57,
   "metadata": {},
   "outputs": [
    {
     "data": {
      "text/plain": [
       "continent\n",
       "AF    56.572222\n",
       "AS    69.456000\n",
       "EU    75.205128\n",
       "NA    72.885714\n",
       "OC    66.580000\n",
       "SA    72.541667\n",
       "Name: life_ex, dtype: float64"
      ]
     },
     "execution_count": 57,
     "metadata": {},
     "output_type": "execute_result"
    }
   ],
   "source": [
    "life_Exp_Continent_2000 = final_df_2000.groupby('continent')['life_ex'].mean()\n",
    "\n",
    "life_Exp_Continent_2000"
   ]
  },
  {
   "cell_type": "code",
   "execution_count": 58,
   "metadata": {},
   "outputs": [
    {
     "name": "stdout",
     "output_type": "stream",
     "text": [
      "The continent which has changed most in life expectancy is: AF\n"
     ]
    }
   ],
   "source": [
    "life_variation = life_Exp_Continent_1800 - life_Exp_Continent_2000\n",
    "\n",
    "print (\"The continent which has changed most in life expectancy is: %s\" % (life_variation.idxmax()))"
   ]
  },
  {
   "cell_type": "markdown",
   "metadata": {},
   "source": [
    "Il ressort donc que l'espérance de vie a augmenté au fil du temps dans les différents continent du monde et cette augmentation est plus éléve au niveau du continent Africain"
   ]
  },
  {
   "cell_type": "markdown",
   "metadata": {},
   "source": [
    "### Question 2 Le PIB a-t-il augmenté au fil du temps ?"
   ]
  },
  {
   "cell_type": "code",
   "execution_count": 59,
   "metadata": {},
   "outputs": [
    {
     "data": {
      "text/plain": [
       "continent\n",
       "AF     705.444444\n",
       "AS    1016.620000\n",
       "EU    1617.846154\n",
       "NA    1134.809524\n",
       "OC     780.800000\n",
       "SA    1265.250000\n",
       "Name: income, dtype: float64"
      ]
     },
     "execution_count": 59,
     "metadata": {},
     "output_type": "execute_result"
    }
   ],
   "source": [
    "PIB_Continent_1800 = final_df_1800.groupby('continent')['income'].mean()\n",
    "\n",
    "PIB_Continent_1800"
   ]
  },
  {
   "cell_type": "code",
   "execution_count": 60,
   "metadata": {},
   "outputs": [
    {
     "data": {
      "text/plain": [
       "continent\n",
       "AF     4159.759259\n",
       "AS    16791.460000\n",
       "EU    28885.128205\n",
       "NA    14780.000000\n",
       "OC    10422.000000\n",
       "SA    11255.833333\n",
       "Name: income, dtype: float64"
      ]
     },
     "execution_count": 60,
     "metadata": {},
     "output_type": "execute_result"
    }
   ],
   "source": [
    "PIB_Continent_2000 = final_df_2000.groupby('continent')['income'].mean()\n",
    "\n",
    "PIB_Continent_2000"
   ]
  },
  {
   "cell_type": "code",
   "execution_count": 61,
   "metadata": {},
   "outputs": [
    {
     "name": "stdout",
     "output_type": "stream",
     "text": [
      "The continent which has changed most in PIB is: AF\n"
     ]
    }
   ],
   "source": [
    "PIB_variation = PIB_Continent_1800 - PIB_Continent_2000\n",
    "\n",
    "print (\"The continent which has changed most in PIB is: %s\" % (life_variation.idxmax()))"
   ]
  },
  {
   "cell_type": "markdown",
   "metadata": {},
   "source": [
    "Une fois de plus nous relevons que le continent Africain est celui ayant connu une nette almélioration de son PIB nous pouvons donc deduire en reponse à notre. "
   ]
  },
  {
   "cell_type": "markdown",
   "metadata": {},
   "source": [
    "### ***Question 03***\n",
    "\n",
    "Au regard des travaux ci-haut il existe bien une corrélation entre le PIB et l'espérance de vie d'un continnet car une expérence de vie eleve egale une amelioration du PIB"
   ]
  },
  {
   "cell_type": "markdown",
   "metadata": {},
   "source": [
    "# ***conclusion***\n",
    "\n",
    "L'objectif de ce projet est d'étudier un jeu de données réel en utilisant une technique d'analyse. Les trois questions posées au début du projet ont été répondues par des statistiques et des visualisations. Avec cet ensemble de données de Gapminder, nous pourrions avoir une autre vision du monde basée uniquement sur les données et une communication appropriée. Le travail futur de ce projet pourrait être d'explorer plus profondément les données en soulignant les facteurs qui ont aménés à l'amerioration de PBI des continent det dans quelle proportion?."
   ]
  },
  {
   "cell_type": "markdown",
   "metadata": {},
   "source": [
    "## Limitation\n",
    "\n",
    "J’ai personnellement été confrontée lors du dérouler de mon projet au choix de données car toutes les données présentes sur Gapminder étaient intéressantes mais à mon avis de qualité moindre. \n",
    "Car, l'ensemble des données combinaient de nombreux indicateurs et tous ayant pour dénominateur commun le PIB et j'ai dû décider quels indicateurs prendre pour mener à bien mon projet selon ma compréhension du PIB ce qui pouvait déjà faussé notre analyse.\n",
    "\n",
    "Aussi, j'ai eu quelques difficultés à placer toutes les données relatives au revenu dans le bon format car le faite d’avoir transformer mes données en millier de dollar aurait pu biaiser mon analyse.\n",
    "De plus, les données ne contenant pas d'informations sur les continents j’ai dû les transformer, je suis donc cherché ailleurs ces informations pour répondre à mes questions or en transformant en continent, j’avais au depart des pays ayant des données presque et ou complètement absente ce qui fait qu'au final mes continents n'avaient plus de données complètes.\n",
    "\n",
    "***La limite de ce projet étant donc la qualité des données utilisées.***\n"
   ]
  },
  {
   "cell_type": "markdown",
   "metadata": {},
   "source": [
    "# Lien de documentation"
   ]
  },
  {
   "cell_type": "markdown",
   "metadata": {},
   "source": [
    "https://towardsdatascience.com/8-methods-for-handling-missing-values-with-python-pandas-842544cdf891"
   ]
  },
  {
   "cell_type": "markdown",
   "metadata": {},
   "source": [
    "https://www.gapminder.org/data/"
   ]
  },
  {
   "cell_type": "markdown",
   "metadata": {},
   "source": [
    "https://www.geeksforgeeks.org/how-to-convert-strings-to-floats-in-pandas-dataframe/"
   ]
  },
  {
   "cell_type": "markdown",
   "metadata": {},
   "source": [
    "https://stackoverflow.com/questions/65764687/how-to-select-columns-in-a-dataframe-where-column-names-are-of-datetime-dtypes"
   ]
  },
  {
   "cell_type": "markdown",
   "metadata": {},
   "source": [
    "https://fr.wikipedia.org/wiki/ISO_3166-1_alpha-2"
   ]
  },
  {
   "cell_type": "code",
   "execution_count": null,
   "metadata": {},
   "outputs": [],
   "source": []
  }
 ],
 "metadata": {
  "kernelspec": {
   "display_name": "Python 3",
   "language": "python",
   "name": "python3"
  },
  "language_info": {
   "codemirror_mode": {
    "name": "ipython",
    "version": 3
   },
   "file_extension": ".py",
   "mimetype": "text/x-python",
   "name": "python",
   "nbconvert_exporter": "python",
   "pygments_lexer": "ipython3",
   "version": "3.8.5"
  }
 },
 "nbformat": 4,
 "nbformat_minor": 4
}
